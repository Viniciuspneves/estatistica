{
 "cells": [
  {
   "cell_type": "markdown",
   "id": "0a78703a",
   "metadata": {},
   "source": [
    "# Distribuição de Frequência\n",
    "\n",
    "A **distribuição de frequência** é uma forma de **organizar os dados** para mostrar **quantas vezes** cada valor (ou grupo de valores) aparece em um conjunto de dados.\n",
    "\n",
    "Ela ajuda a **visualizar padrões**, como os valores mais comuns ou a forma como os dados estão distribuídos.\n",
    "\n",
    "---\n",
    "\n",
    "### Componentes principais:\n",
    "\n",
    "#### - **Frequência Absoluta:**\n",
    "\n",
    "## $$f_i$$ \n",
    "\n",
    "Número de vezes que um valor (ou classe) aparece nos dados. É a contagem simples das ocorrências.\n",
    "\n",
    "---\n",
    "\n",
    "#### - **Frequência Relativa:**\n",
    "\n",
    "## $$f_{r_i} = \\frac{f_i}{n}$$ \n",
    "\n",
    "Proporção de vezes que o valor aparece em relação ao total de dados ($n$).  \n",
    "Varia entre $0$ e $1$. Pode ser transformada em percentual multiplicando por 100.\n",
    "\n",
    "---\n",
    "\n",
    "#### - **Frequência Relativa Percentual:**\n",
    "\n",
    "## $$f_{r\\%i} = \\frac{f_i}{n} \\cdot 100$$\n",
    "\n",
    "É a **frequência relativa expressa em porcentagem**. Ajuda a visualizar melhor a proporção de cada valor no conjunto total.\n",
    "\n",
    "---\n",
    "\n",
    "#### - **Frequência Acumulada Absoluta:**\n",
    "\n",
    "## $$F_i = \\sum_{j=1}^{i} f_j$$\n",
    "\n",
    "Soma das frequências absolutas até um determinado valor.  \n",
    "Indica **quantos elementos** estão abaixo ou até certo ponto da distribuição.\n",
    "\n",
    "---\n",
    "\n",
    "#### - **Frequência Acumulada Relativa:**\n",
    "\n",
    "## $$F_{r_i} = \\sum_{j=1}^{i} f_{rj} = \\frac{F_i}{n}$$\n",
    "\n",
    "Soma das frequências relativas até um valor específico.  \n",
    "Mostra a **proporção acumulada** dos dados.  \n",
    "Também pode ser expressa em porcentagem.\n",
    "\n",
    "---\n",
    "\n",
    "### Exemplo simples:\n",
    "\n",
    "| Idade (anos) | $f_i$ | $f_{r_i}$ | $f_{r\\%i}$ | $F_i$ | $F_{r_i}$ |\n",
    "|--------------|-------|-----------|------------|-------|-----------|\n",
    "| 18           | 2     | 0.10      | 10\\%       | 2     | 0.10      |\n",
    "| 19           | 3     | 0.15      | 15\\%       | 5     | 0.25      |\n",
    "| 20           | 5     | 0.25      | 25\\%       | 10    | 0.50      |\n",
    "| 21           | 6     | 0.30      | 30\\%       | 16    | 0.80      |\n",
    "| 22           | 4     | 0.20      | 20\\%       | 20    | 1.00      |\n",
    "\n",
    "---\n",
    "\n",
    "Nesse exemplo, podemos observar:\n",
    "\n",
    "- O valor mais comum é **21 anos**, pois tem a maior frequência absoluta.\n",
    "- A **frequência acumulada absoluta ($F_i$)** mostra que até os 20 anos, temos **10 pessoas**.\n",
    "- A **frequência acumulada relativa ($F_{r_i}$)** indica que **50% dos dados** estão até a idade de 20 anos.\n",
    "\n",
    "---\n",
    "\n",
    "A distribuição de frequência pode ser aplicada tanto para **valores únicos** (dados discretos), quanto para **intervalos de classe** (dados contínuos), facilitando a análise e visualização dos dados.\n"
   ]
  },
  {
   "cell_type": "markdown",
   "id": "4b43e802",
   "metadata": {},
   "source": [
    "### Distribuição de frequências para variáveis qualitativas"
   ]
  },
  {
   "cell_type": "code",
   "execution_count": 28,
   "id": "c8eb7dcf",
   "metadata": {},
   "outputs": [],
   "source": [
    "import pandas as pd\n",
    "import numpy as np"
   ]
  },
  {
   "cell_type": "code",
   "execution_count": 29,
   "id": "c5ba8a7a",
   "metadata": {},
   "outputs": [
    {
     "data": {
      "text/html": [
       "<div>\n",
       "<style scoped>\n",
       "    .dataframe tbody tr th:only-of-type {\n",
       "        vertical-align: middle;\n",
       "    }\n",
       "\n",
       "    .dataframe tbody tr th {\n",
       "        vertical-align: top;\n",
       "    }\n",
       "\n",
       "    .dataframe thead th {\n",
       "        text-align: right;\n",
       "    }\n",
       "</style>\n",
       "<table border=\"1\" class=\"dataframe\">\n",
       "  <thead>\n",
       "    <tr style=\"text-align: right;\">\n",
       "      <th></th>\n",
       "      <th>UF</th>\n",
       "      <th>Sexo</th>\n",
       "      <th>Idade</th>\n",
       "      <th>Cor</th>\n",
       "      <th>Anos de Estudo</th>\n",
       "      <th>Renda</th>\n",
       "      <th>Altura</th>\n",
       "    </tr>\n",
       "  </thead>\n",
       "  <tbody>\n",
       "    <tr>\n",
       "      <th>0</th>\n",
       "      <td>11</td>\n",
       "      <td>0</td>\n",
       "      <td>23</td>\n",
       "      <td>8</td>\n",
       "      <td>12</td>\n",
       "      <td>800</td>\n",
       "      <td>1.603808</td>\n",
       "    </tr>\n",
       "    <tr>\n",
       "      <th>1</th>\n",
       "      <td>11</td>\n",
       "      <td>1</td>\n",
       "      <td>23</td>\n",
       "      <td>2</td>\n",
       "      <td>12</td>\n",
       "      <td>1150</td>\n",
       "      <td>1.739790</td>\n",
       "    </tr>\n",
       "    <tr>\n",
       "      <th>2</th>\n",
       "      <td>11</td>\n",
       "      <td>1</td>\n",
       "      <td>35</td>\n",
       "      <td>8</td>\n",
       "      <td>15</td>\n",
       "      <td>880</td>\n",
       "      <td>1.760444</td>\n",
       "    </tr>\n",
       "    <tr>\n",
       "      <th>3</th>\n",
       "      <td>11</td>\n",
       "      <td>0</td>\n",
       "      <td>46</td>\n",
       "      <td>2</td>\n",
       "      <td>6</td>\n",
       "      <td>3500</td>\n",
       "      <td>1.783158</td>\n",
       "    </tr>\n",
       "    <tr>\n",
       "      <th>4</th>\n",
       "      <td>11</td>\n",
       "      <td>1</td>\n",
       "      <td>47</td>\n",
       "      <td>8</td>\n",
       "      <td>9</td>\n",
       "      <td>150</td>\n",
       "      <td>1.690631</td>\n",
       "    </tr>\n",
       "  </tbody>\n",
       "</table>\n",
       "</div>"
      ],
      "text/plain": [
       "   UF  Sexo  Idade  Cor  Anos de Estudo  Renda    Altura\n",
       "0  11     0     23    8              12    800  1.603808\n",
       "1  11     1     23    2              12   1150  1.739790\n",
       "2  11     1     35    8              15    880  1.760444\n",
       "3  11     0     46    2               6   3500  1.783158\n",
       "4  11     1     47    8               9    150  1.690631"
      ]
     },
     "execution_count": 29,
     "metadata": {},
     "output_type": "execute_result"
    }
   ],
   "source": [
    "dados = pd.read_csv(r\"../../dados/datasets/amostra-de-domicilios.csv\")\n",
    "dados.head()"
   ]
  },
  {
   "cell_type": "markdown",
   "id": "2621dbb9",
   "metadata": {},
   "source": [
    "- $0$: representam Homens   \n",
    "- $1$: representam Mulheres"
   ]
  },
  {
   "cell_type": "code",
   "execution_count": 30,
   "id": "e7f1f0c8",
   "metadata": {},
   "outputs": [
    {
     "data": {
      "text/plain": [
       "Sexo\n",
       "0    53250\n",
       "1    23590\n",
       "Name: count, dtype: int64"
      ]
     },
     "execution_count": 30,
     "metadata": {},
     "output_type": "execute_result"
    }
   ],
   "source": [
    "dados[\"Sexo\"].value_counts()"
   ]
  },
  {
   "cell_type": "code",
   "execution_count": 31,
   "id": "be1ec9cf",
   "metadata": {},
   "outputs": [
    {
     "data": {
      "text/plain": [
       "Sexo\n",
       "0    69.299844\n",
       "1    30.700156\n",
       "Name: proportion, dtype: float64"
      ]
     },
     "execution_count": 31,
     "metadata": {},
     "output_type": "execute_result"
    }
   ],
   "source": [
    "dados[\"Sexo\"].value_counts(normalize=True) * 100"
   ]
  },
  {
   "cell_type": "code",
   "execution_count": 32,
   "id": "5a0353a9",
   "metadata": {},
   "outputs": [],
   "source": [
    "frequencia = dados[\"Sexo\"].value_counts()\n",
    "percentual = dados[\"Sexo\"].value_counts(normalize=True) * 100"
   ]
  },
  {
   "cell_type": "code",
   "execution_count": 33,
   "id": "f3ec2383",
   "metadata": {},
   "outputs": [
    {
     "data": {
      "text/html": [
       "<div>\n",
       "<style scoped>\n",
       "    .dataframe tbody tr th:only-of-type {\n",
       "        vertical-align: middle;\n",
       "    }\n",
       "\n",
       "    .dataframe tbody tr th {\n",
       "        vertical-align: top;\n",
       "    }\n",
       "\n",
       "    .dataframe thead th {\n",
       "        text-align: right;\n",
       "    }\n",
       "</style>\n",
       "<table border=\"1\" class=\"dataframe\">\n",
       "  <thead>\n",
       "    <tr style=\"text-align: right;\">\n",
       "      <th></th>\n",
       "      <th>Frequência absoluta</th>\n",
       "      <th>Frequência Relativa (%)</th>\n",
       "    </tr>\n",
       "    <tr>\n",
       "      <th>Sexo</th>\n",
       "      <th></th>\n",
       "      <th></th>\n",
       "    </tr>\n",
       "  </thead>\n",
       "  <tbody>\n",
       "    <tr>\n",
       "      <th>0</th>\n",
       "      <td>53250</td>\n",
       "      <td>69.299844</td>\n",
       "    </tr>\n",
       "    <tr>\n",
       "      <th>1</th>\n",
       "      <td>23590</td>\n",
       "      <td>30.700156</td>\n",
       "    </tr>\n",
       "  </tbody>\n",
       "</table>\n",
       "</div>"
      ],
      "text/plain": [
       "      Frequência absoluta  Frequência Relativa (%)\n",
       "Sexo                                              \n",
       "0                   53250                69.299844\n",
       "1                   23590                30.700156"
      ]
     },
     "execution_count": 33,
     "metadata": {},
     "output_type": "execute_result"
    }
   ],
   "source": [
    "distribuicao_freq_qualitativa = pd.DataFrame({\"Frequência absoluta\": frequencia, \"Frequência Relativa (%)\": percentual})\n",
    "distribuicao_freq_qualitativa"
   ]
  },
  {
   "cell_type": "markdown",
   "id": "f69bdd82",
   "metadata": {},
   "source": [
    "- Alterando o nome da coluna `sexo`"
   ]
  },
  {
   "cell_type": "code",
   "execution_count": 34,
   "id": "d5742371",
   "metadata": {},
   "outputs": [
    {
     "data": {
      "text/html": [
       "<div>\n",
       "<style scoped>\n",
       "    .dataframe tbody tr th:only-of-type {\n",
       "        vertical-align: middle;\n",
       "    }\n",
       "\n",
       "    .dataframe tbody tr th {\n",
       "        vertical-align: top;\n",
       "    }\n",
       "\n",
       "    .dataframe thead th {\n",
       "        text-align: right;\n",
       "    }\n",
       "</style>\n",
       "<table border=\"1\" class=\"dataframe\">\n",
       "  <thead>\n",
       "    <tr style=\"text-align: right;\">\n",
       "      <th></th>\n",
       "      <th>Frequência absoluta</th>\n",
       "      <th>Frequência Relativa (%)</th>\n",
       "    </tr>\n",
       "    <tr>\n",
       "      <th>Sexo</th>\n",
       "      <th></th>\n",
       "      <th></th>\n",
       "    </tr>\n",
       "  </thead>\n",
       "  <tbody>\n",
       "    <tr>\n",
       "      <th>Masculino</th>\n",
       "      <td>53250</td>\n",
       "      <td>69.299844</td>\n",
       "    </tr>\n",
       "    <tr>\n",
       "      <th>Feminino</th>\n",
       "      <td>23590</td>\n",
       "      <td>30.700156</td>\n",
       "    </tr>\n",
       "  </tbody>\n",
       "</table>\n",
       "</div>"
      ],
      "text/plain": [
       "           Frequência absoluta  Frequência Relativa (%)\n",
       "Sexo                                                   \n",
       "Masculino                53250                69.299844\n",
       "Feminino                 23590                30.700156"
      ]
     },
     "execution_count": 34,
     "metadata": {},
     "output_type": "execute_result"
    }
   ],
   "source": [
    "distribuicao_freq_qualitativa.rename(index={0: \"Masculino\", 1: \"Feminino\"}, inplace=True)\n",
    "distribuicao_freq_qualitativa"
   ]
  },
  {
   "cell_type": "code",
   "execution_count": 35,
   "id": "af808655",
   "metadata": {},
   "outputs": [],
   "source": [
    "sexo = {0: \"Masculino\",\n",
    "        1: \"Feminino\"}\n",
    "\n",
    "cor = {0: \"Indígena\",\n",
    "       2: \"Branca\",\n",
    "       4: \"Preta\",\n",
    "       6: \"Amarela\",\n",
    "       8: \"Parda\",\n",
    "       9: \"Sem declaração\"}"
   ]
  },
  {
   "cell_type": "code",
   "execution_count": 36,
   "id": "ddbdce5a",
   "metadata": {},
   "outputs": [
    {
     "data": {
      "text/html": [
       "<div>\n",
       "<style scoped>\n",
       "    .dataframe tbody tr th:only-of-type {\n",
       "        vertical-align: middle;\n",
       "    }\n",
       "\n",
       "    .dataframe tbody tr th {\n",
       "        vertical-align: top;\n",
       "    }\n",
       "\n",
       "    .dataframe thead th {\n",
       "        text-align: right;\n",
       "    }\n",
       "</style>\n",
       "<table border=\"1\" class=\"dataframe\">\n",
       "  <thead>\n",
       "    <tr style=\"text-align: right;\">\n",
       "      <th>Cor</th>\n",
       "      <th>0</th>\n",
       "      <th>2</th>\n",
       "      <th>4</th>\n",
       "      <th>6</th>\n",
       "      <th>8</th>\n",
       "    </tr>\n",
       "    <tr>\n",
       "      <th>Sexo</th>\n",
       "      <th></th>\n",
       "      <th></th>\n",
       "      <th></th>\n",
       "      <th></th>\n",
       "      <th></th>\n",
       "    </tr>\n",
       "  </thead>\n",
       "  <tbody>\n",
       "    <tr>\n",
       "      <th>0</th>\n",
       "      <td>256</td>\n",
       "      <td>22194</td>\n",
       "      <td>5502</td>\n",
       "      <td>235</td>\n",
       "      <td>25063</td>\n",
       "    </tr>\n",
       "    <tr>\n",
       "      <th>1</th>\n",
       "      <td>101</td>\n",
       "      <td>9621</td>\n",
       "      <td>2889</td>\n",
       "      <td>117</td>\n",
       "      <td>10862</td>\n",
       "    </tr>\n",
       "  </tbody>\n",
       "</table>\n",
       "</div>"
      ],
      "text/plain": [
       "Cor     0      2     4    6      8\n",
       "Sexo                              \n",
       "0     256  22194  5502  235  25063\n",
       "1     101   9621  2889  117  10862"
      ]
     },
     "execution_count": 36,
     "metadata": {},
     "output_type": "execute_result"
    }
   ],
   "source": [
    "frequencia = pd.crosstab(dados.Sexo,\n",
    "                         dados.Cor)\n",
    "frequencia"
   ]
  },
  {
   "cell_type": "markdown",
   "id": "46fc8e50",
   "metadata": {},
   "source": [
    "- ### Frequencia Absoluta ($f$)\n",
    "- alterando o nome das cores"
   ]
  },
  {
   "cell_type": "code",
   "execution_count": 37,
   "id": "e3136bdf",
   "metadata": {},
   "outputs": [
    {
     "data": {
      "text/html": [
       "<div>\n",
       "<style scoped>\n",
       "    .dataframe tbody tr th:only-of-type {\n",
       "        vertical-align: middle;\n",
       "    }\n",
       "\n",
       "    .dataframe tbody tr th {\n",
       "        vertical-align: top;\n",
       "    }\n",
       "\n",
       "    .dataframe thead th {\n",
       "        text-align: right;\n",
       "    }\n",
       "</style>\n",
       "<table border=\"1\" class=\"dataframe\">\n",
       "  <thead>\n",
       "    <tr style=\"text-align: right;\">\n",
       "      <th>Cor</th>\n",
       "      <th>Indígena</th>\n",
       "      <th>Branca</th>\n",
       "      <th>Preta</th>\n",
       "      <th>Amarela</th>\n",
       "      <th>Parda</th>\n",
       "    </tr>\n",
       "    <tr>\n",
       "      <th>Sexo</th>\n",
       "      <th></th>\n",
       "      <th></th>\n",
       "      <th></th>\n",
       "      <th></th>\n",
       "      <th></th>\n",
       "    </tr>\n",
       "  </thead>\n",
       "  <tbody>\n",
       "    <tr>\n",
       "      <th>Masculino</th>\n",
       "      <td>256</td>\n",
       "      <td>22194</td>\n",
       "      <td>5502</td>\n",
       "      <td>235</td>\n",
       "      <td>25063</td>\n",
       "    </tr>\n",
       "    <tr>\n",
       "      <th>Feminino</th>\n",
       "      <td>101</td>\n",
       "      <td>9621</td>\n",
       "      <td>2889</td>\n",
       "      <td>117</td>\n",
       "      <td>10862</td>\n",
       "    </tr>\n",
       "  </tbody>\n",
       "</table>\n",
       "</div>"
      ],
      "text/plain": [
       "Cor        Indígena  Branca  Preta  Amarela  Parda\n",
       "Sexo                                              \n",
       "Masculino       256   22194   5502      235  25063\n",
       "Feminino        101    9621   2889      117  10862"
      ]
     },
     "execution_count": 37,
     "metadata": {},
     "output_type": "execute_result"
    }
   ],
   "source": [
    "frequencia = pd.crosstab(dados.Sexo,\n",
    "                         dados.Cor)\n",
    "frequencia.rename(index=sexo, inplace=True)\n",
    "frequencia.rename(columns=cor, inplace=True)\n",
    "frequencia"
   ]
  },
  {
   "cell_type": "markdown",
   "id": "2a655bbc",
   "metadata": {},
   "source": [
    "- ### Frequencia Relativa ($f_r$)"
   ]
  },
  {
   "cell_type": "code",
   "execution_count": 38,
   "id": "e5722826",
   "metadata": {},
   "outputs": [
    {
     "data": {
      "text/html": [
       "<div>\n",
       "<style scoped>\n",
       "    .dataframe tbody tr th:only-of-type {\n",
       "        vertical-align: middle;\n",
       "    }\n",
       "\n",
       "    .dataframe tbody tr th {\n",
       "        vertical-align: top;\n",
       "    }\n",
       "\n",
       "    .dataframe thead th {\n",
       "        text-align: right;\n",
       "    }\n",
       "</style>\n",
       "<table border=\"1\" class=\"dataframe\">\n",
       "  <thead>\n",
       "    <tr style=\"text-align: right;\">\n",
       "      <th>Cor</th>\n",
       "      <th>Indígena</th>\n",
       "      <th>Branca</th>\n",
       "      <th>Preta</th>\n",
       "      <th>Amarela</th>\n",
       "      <th>Parda</th>\n",
       "    </tr>\n",
       "    <tr>\n",
       "      <th>Sexo</th>\n",
       "      <th></th>\n",
       "      <th></th>\n",
       "      <th></th>\n",
       "      <th></th>\n",
       "      <th></th>\n",
       "    </tr>\n",
       "  </thead>\n",
       "  <tbody>\n",
       "    <tr>\n",
       "      <th>Masculino</th>\n",
       "      <td>0.333160</td>\n",
       "      <td>28.883394</td>\n",
       "      <td>7.160333</td>\n",
       "      <td>0.305830</td>\n",
       "      <td>32.617126</td>\n",
       "    </tr>\n",
       "    <tr>\n",
       "      <th>Feminino</th>\n",
       "      <td>0.131442</td>\n",
       "      <td>12.520822</td>\n",
       "      <td>3.759761</td>\n",
       "      <td>0.152264</td>\n",
       "      <td>14.135867</td>\n",
       "    </tr>\n",
       "  </tbody>\n",
       "</table>\n",
       "</div>"
      ],
      "text/plain": [
       "Cor        Indígena     Branca     Preta   Amarela      Parda\n",
       "Sexo                                                         \n",
       "Masculino  0.333160  28.883394  7.160333  0.305830  32.617126\n",
       "Feminino   0.131442  12.520822  3.759761  0.152264  14.135867"
      ]
     },
     "execution_count": 38,
     "metadata": {},
     "output_type": "execute_result"
    }
   ],
   "source": [
    "percentual = pd.crosstab(dados.Sexo,\n",
    "                         dados.Cor,\n",
    "                         normalize=True) * 100\n",
    "percentual.rename(index=sexo, inplace=True)\n",
    "percentual.rename(columns=cor, inplace=True)\n",
    "percentual"
   ]
  },
  {
   "cell_type": "code",
   "execution_count": 39,
   "id": "10ad147c",
   "metadata": {},
   "outputs": [
    {
     "data": {
      "text/html": [
       "<div>\n",
       "<style scoped>\n",
       "    .dataframe tbody tr th:only-of-type {\n",
       "        vertical-align: middle;\n",
       "    }\n",
       "\n",
       "    .dataframe tbody tr th {\n",
       "        vertical-align: top;\n",
       "    }\n",
       "\n",
       "    .dataframe thead th {\n",
       "        text-align: right;\n",
       "    }\n",
       "</style>\n",
       "<table border=\"1\" class=\"dataframe\">\n",
       "  <thead>\n",
       "    <tr style=\"text-align: right;\">\n",
       "      <th>Cor</th>\n",
       "      <th>Indígena</th>\n",
       "      <th>Branca</th>\n",
       "      <th>Preta</th>\n",
       "      <th>Amarela</th>\n",
       "      <th>Parda</th>\n",
       "    </tr>\n",
       "    <tr>\n",
       "      <th>Sexo</th>\n",
       "      <th></th>\n",
       "      <th></th>\n",
       "      <th></th>\n",
       "      <th></th>\n",
       "      <th></th>\n",
       "    </tr>\n",
       "  </thead>\n",
       "  <tbody>\n",
       "    <tr>\n",
       "      <th>Masculino</th>\n",
       "      <td>1081.710938</td>\n",
       "      <td>2925.744435</td>\n",
       "      <td>1603.861687</td>\n",
       "      <td>4758.251064</td>\n",
       "      <td>1659.577425</td>\n",
       "    </tr>\n",
       "    <tr>\n",
       "      <th>Feminino</th>\n",
       "      <td>2464.386139</td>\n",
       "      <td>2109.866750</td>\n",
       "      <td>1134.596400</td>\n",
       "      <td>3027.341880</td>\n",
       "      <td>1176.758516</td>\n",
       "    </tr>\n",
       "  </tbody>\n",
       "</table>\n",
       "</div>"
      ],
      "text/plain": [
       "Cor           Indígena       Branca        Preta      Amarela        Parda\n",
       "Sexo                                                                      \n",
       "Masculino  1081.710938  2925.744435  1603.861687  4758.251064  1659.577425\n",
       "Feminino   2464.386139  2109.866750  1134.596400  3027.341880  1176.758516"
      ]
     },
     "execution_count": 39,
     "metadata": {},
     "output_type": "execute_result"
    }
   ],
   "source": [
    "percentual = pd.crosstab(dados.Sexo,\n",
    "                         dados.Cor,\n",
    "                         aggfunc=\"mean\",\n",
    "                         values=dados.Renda)\n",
    "percentual.rename(index=sexo, inplace=True)\n",
    "percentual.rename(columns=cor, inplace=True)\n",
    "percentual"
   ]
  },
  {
   "cell_type": "markdown",
   "id": "5f5be299",
   "metadata": {},
   "source": [
    "#### Especificando os limites de cada classe\n",
    "\n",
    "Utilizando a seguinte classificação com base no salário mensal:\n",
    "\n",
    "##### Classe A\n",
    "- **Definição:** Acima de 20 salários mensais\n",
    "- **Equivalente em reais:** Acima de **R$ 15.760,00**\n",
    "\n",
    "##### Classe B\n",
    "- **Definição:** De 10 a 20 salários mensais\n",
    "- **Equivalente em reais:** De **R$ 7.880,00** a **R$ 15.760,00**\n",
    "\n",
    "##### Classe C\n",
    "- **Definição:** De 4 a 10 salários mensais\n",
    "- **Equivalente em reais:** De **R$ 3.152,00** a **R$ 7.880,00**\n",
    "\n",
    "##### Classe D\n",
    "- **Definição:** De 2 a 4 salários mensais\n",
    "- **Equivalente em reais:** De **R$ 1.576,00** a **R$ 3.152,00**\n",
    "\n",
    "##### Classe E\n",
    "- **Definição:** Até 2 salários mensais\n",
    "- **Equivalente em reais:** Até **R$ 1.576,00**\n",
    "\n",
    "> Considerando que o valor do salário mínimo em 2015 era de **R$ 788,00**.\n",
    "\n"
   ]
  },
  {
   "cell_type": "code",
   "execution_count": 40,
   "id": "6ae99b49",
   "metadata": {},
   "outputs": [
    {
     "data": {
      "text/plain": [
       "np.int64(0)"
      ]
     },
     "execution_count": 40,
     "metadata": {},
     "output_type": "execute_result"
    }
   ],
   "source": [
    "dados.Renda.min()"
   ]
  },
  {
   "cell_type": "code",
   "execution_count": 41,
   "id": "c53608fa",
   "metadata": {},
   "outputs": [
    {
     "data": {
      "text/plain": [
       "np.int64(200000)"
      ]
     },
     "execution_count": 41,
     "metadata": {},
     "output_type": "execute_result"
    }
   ],
   "source": [
    "dados.Renda.max()"
   ]
  },
  {
   "cell_type": "markdown",
   "id": "be3d4c6d",
   "metadata": {},
   "source": [
    "- ### Criando agrupamento por classes e renda"
   ]
  },
  {
   "cell_type": "code",
   "execution_count": 42,
   "id": "feaacb2b",
   "metadata": {},
   "outputs": [],
   "source": [
    "classes = [0, 1576, 3152, 7880, 15760, 200000]"
   ]
  },
  {
   "cell_type": "code",
   "execution_count": 43,
   "id": "38fb644a",
   "metadata": {},
   "outputs": [],
   "source": [
    "labels = [\"E\", \"D\", \"C\", \"B\", \"A\"]"
   ]
  },
  {
   "cell_type": "code",
   "execution_count": 44,
   "id": "2d57595c",
   "metadata": {},
   "outputs": [
    {
     "data": {
      "text/html": [
       "<div>\n",
       "<style scoped>\n",
       "    .dataframe tbody tr th:only-of-type {\n",
       "        vertical-align: middle;\n",
       "    }\n",
       "\n",
       "    .dataframe tbody tr th {\n",
       "        vertical-align: top;\n",
       "    }\n",
       "\n",
       "    .dataframe thead th {\n",
       "        text-align: right;\n",
       "    }\n",
       "</style>\n",
       "<table border=\"1\" class=\"dataframe\">\n",
       "  <thead>\n",
       "    <tr style=\"text-align: right;\">\n",
       "      <th></th>\n",
       "      <th>UF</th>\n",
       "      <th>Sexo</th>\n",
       "      <th>Idade</th>\n",
       "      <th>Cor</th>\n",
       "      <th>Anos de Estudo</th>\n",
       "      <th>Renda</th>\n",
       "      <th>Altura</th>\n",
       "    </tr>\n",
       "  </thead>\n",
       "  <tbody>\n",
       "    <tr>\n",
       "      <th>0</th>\n",
       "      <td>11</td>\n",
       "      <td>0</td>\n",
       "      <td>23</td>\n",
       "      <td>8</td>\n",
       "      <td>12</td>\n",
       "      <td>800</td>\n",
       "      <td>1.603808</td>\n",
       "    </tr>\n",
       "    <tr>\n",
       "      <th>1</th>\n",
       "      <td>11</td>\n",
       "      <td>1</td>\n",
       "      <td>23</td>\n",
       "      <td>2</td>\n",
       "      <td>12</td>\n",
       "      <td>1150</td>\n",
       "      <td>1.739790</td>\n",
       "    </tr>\n",
       "    <tr>\n",
       "      <th>2</th>\n",
       "      <td>11</td>\n",
       "      <td>1</td>\n",
       "      <td>35</td>\n",
       "      <td>8</td>\n",
       "      <td>15</td>\n",
       "      <td>880</td>\n",
       "      <td>1.760444</td>\n",
       "    </tr>\n",
       "    <tr>\n",
       "      <th>3</th>\n",
       "      <td>11</td>\n",
       "      <td>0</td>\n",
       "      <td>46</td>\n",
       "      <td>2</td>\n",
       "      <td>6</td>\n",
       "      <td>3500</td>\n",
       "      <td>1.783158</td>\n",
       "    </tr>\n",
       "    <tr>\n",
       "      <th>4</th>\n",
       "      <td>11</td>\n",
       "      <td>1</td>\n",
       "      <td>47</td>\n",
       "      <td>8</td>\n",
       "      <td>9</td>\n",
       "      <td>150</td>\n",
       "      <td>1.690631</td>\n",
       "    </tr>\n",
       "  </tbody>\n",
       "</table>\n",
       "</div>"
      ],
      "text/plain": [
       "   UF  Sexo  Idade  Cor  Anos de Estudo  Renda    Altura\n",
       "0  11     0     23    8              12    800  1.603808\n",
       "1  11     1     23    2              12   1150  1.739790\n",
       "2  11     1     35    8              15    880  1.760444\n",
       "3  11     0     46    2               6   3500  1.783158\n",
       "4  11     1     47    8               9    150  1.690631"
      ]
     },
     "execution_count": 44,
     "metadata": {},
     "output_type": "execute_result"
    }
   ],
   "source": [
    "dados.head()"
   ]
  },
  {
   "cell_type": "code",
   "execution_count": 45,
   "id": "09fd1a95",
   "metadata": {},
   "outputs": [
    {
     "data": {
      "text/plain": [
       "0        E\n",
       "1        E\n",
       "2        E\n",
       "3        C\n",
       "4        E\n",
       "        ..\n",
       "76835    E\n",
       "76836    E\n",
       "76837    E\n",
       "76838    E\n",
       "76839    E\n",
       "Name: Renda, Length: 76840, dtype: category\n",
       "Categories (5, object): ['E' < 'D' < 'C' < 'B' < 'A']"
      ]
     },
     "execution_count": 45,
     "metadata": {},
     "output_type": "execute_result"
    }
   ],
   "source": [
    "pd.cut(x=dados.Renda,\n",
    "       bins=classes,\n",
    "       labels=labels,\n",
    "       include_lowest=True)"
   ]
  },
  {
   "cell_type": "markdown",
   "id": "82abdb9c",
   "metadata": {},
   "source": [
    "- #### Frequência Absoluta ($f_i$)"
   ]
  },
  {
   "cell_type": "code",
   "execution_count": 46,
   "id": "e9477629",
   "metadata": {},
   "outputs": [
    {
     "name": "stderr",
     "output_type": "stream",
     "text": [
      "C:\\Users\\Windows\\AppData\\Local\\Temp\\ipykernel_17680\\1523071324.py:1: FutureWarning: pandas.value_counts is deprecated and will be removed in a future version. Use pd.Series(obj).value_counts() instead.\n",
      "  frequencia = pd.value_counts(pd.cut(x=dados.Renda,\n"
     ]
    },
    {
     "data": {
      "text/plain": [
       "Renda\n",
       "A      608\n",
       "B     2178\n",
       "C     7599\n",
       "D    16700\n",
       "E    49755\n",
       "Name: count, dtype: int64"
      ]
     },
     "execution_count": 46,
     "metadata": {},
     "output_type": "execute_result"
    }
   ],
   "source": [
    "frequencia = pd.value_counts(pd.cut(x=dados.Renda,\n",
    "       bins=classes,\n",
    "       labels=labels,\n",
    "       include_lowest=True))\n",
    "\n",
    "frequencia.sort_index(ascending=False)"
   ]
  },
  {
   "cell_type": "markdown",
   "id": "ab6f1ff7",
   "metadata": {},
   "source": [
    "- ### Frequência Relativa ($f_{r_i}$)"
   ]
  },
  {
   "cell_type": "code",
   "execution_count": 47,
   "id": "86d80c2c",
   "metadata": {},
   "outputs": [
    {
     "name": "stderr",
     "output_type": "stream",
     "text": [
      "C:\\Users\\Windows\\AppData\\Local\\Temp\\ipykernel_17680\\2826404884.py:1: FutureWarning: pandas.value_counts is deprecated and will be removed in a future version. Use pd.Series(obj).value_counts() instead.\n",
      "  percentual = pd.value_counts(pd.cut(x=dados.Renda,\n"
     ]
    },
    {
     "data": {
      "text/plain": [
       "Renda\n",
       "A     0.791255\n",
       "B     2.834461\n",
       "C     9.889381\n",
       "D    21.733472\n",
       "E    64.751432\n",
       "Name: proportion, dtype: float64"
      ]
     },
     "execution_count": 47,
     "metadata": {},
     "output_type": "execute_result"
    }
   ],
   "source": [
    "percentual = pd.value_counts(pd.cut(x=dados.Renda,\n",
    "       bins=classes,\n",
    "       labels=labels,\n",
    "       include_lowest=True),\n",
    "       normalize=True) * 100\n",
    "\n",
    "percentual.sort_index(ascending=False)"
   ]
  },
  {
   "cell_type": "markdown",
   "id": "3dd2fe48",
   "metadata": {},
   "source": [
    "- ### Frequência Acumulada Absoluta ($F_i$)"
   ]
  },
  {
   "cell_type": "code",
   "execution_count": 48,
   "id": "da4b2fed",
   "metadata": {},
   "outputs": [
    {
     "name": "stderr",
     "output_type": "stream",
     "text": [
      "C:\\Users\\Windows\\AppData\\Local\\Temp\\ipykernel_17680\\3498170592.py:1: FutureWarning: pandas.value_counts is deprecated and will be removed in a future version. Use pd.Series(obj).value_counts() instead.\n",
      "  acumulada_absoluta = pd.value_counts(pd.cut(x=dados.Renda,\n"
     ]
    },
    {
     "data": {
      "text/plain": [
       "Renda\n",
       "A      608\n",
       "B     2786\n",
       "C    10385\n",
       "D    27085\n",
       "E    76840\n",
       "Name: count, dtype: int64"
      ]
     },
     "execution_count": 48,
     "metadata": {},
     "output_type": "execute_result"
    }
   ],
   "source": [
    "acumulada_absoluta = pd.value_counts(pd.cut(x=dados.Renda,\n",
    "       bins=classes,\n",
    "       labels=labels,\n",
    "       include_lowest=True)) \n",
    "\n",
    "acumulada_absoluta = acumulada_absoluta.sort_index(ascending=False).cumsum()\n",
    "acumulada_absoluta"
   ]
  },
  {
   "cell_type": "markdown",
   "id": "68e8e188",
   "metadata": {},
   "source": [
    "- ### Frequência Relativa Percentual $f_{r\\%i}$"
   ]
  },
  {
   "cell_type": "code",
   "execution_count": 49,
   "id": "ec76f767",
   "metadata": {},
   "outputs": [
    {
     "name": "stderr",
     "output_type": "stream",
     "text": [
      "C:\\Users\\Windows\\AppData\\Local\\Temp\\ipykernel_17680\\3187073417.py:1: FutureWarning: pandas.value_counts is deprecated and will be removed in a future version. Use pd.Series(obj).value_counts() instead.\n",
      "  acumulada_relativa_percentual = pd.value_counts(pd.cut(x=dados.Renda,\n"
     ]
    },
    {
     "data": {
      "text/plain": [
       "Renda\n",
       "A      0.791255\n",
       "B      3.625716\n",
       "C     13.515096\n",
       "D     35.248568\n",
       "E    100.000000\n",
       "Name: proportion, dtype: float64"
      ]
     },
     "execution_count": 49,
     "metadata": {},
     "output_type": "execute_result"
    }
   ],
   "source": [
    "acumulada_relativa_percentual = pd.value_counts(pd.cut(x=dados.Renda,\n",
    "       bins=classes,\n",
    "       labels=labels,\n",
    "       include_lowest=True),\n",
    "       normalize=True) * 100\n",
    "\n",
    "acumulada_relativa_percentual = acumulada_relativa_percentual.sort_index(ascending=False).cumsum()\n",
    "acumulada_relativa_percentual"
   ]
  },
  {
   "cell_type": "markdown",
   "id": "62bc24e0",
   "metadata": {},
   "source": [
    "- ### Frequência Relativa Percentual $F_{r_i}$"
   ]
  },
  {
   "cell_type": "code",
   "execution_count": 50,
   "id": "4415c30d",
   "metadata": {},
   "outputs": [
    {
     "name": "stderr",
     "output_type": "stream",
     "text": [
      "C:\\Users\\Windows\\AppData\\Local\\Temp\\ipykernel_17680\\2645855301.py:1: FutureWarning: pandas.value_counts is deprecated and will be removed in a future version. Use pd.Series(obj).value_counts() instead.\n",
      "  acumulada_relativa = pd.value_counts(pd.cut(x=dados.Renda,\n"
     ]
    },
    {
     "data": {
      "text/plain": [
       "Renda\n",
       "A    0.007913\n",
       "B    0.036257\n",
       "C    0.135151\n",
       "D    0.352486\n",
       "E    1.000000\n",
       "Name: proportion, dtype: float64"
      ]
     },
     "execution_count": 50,
     "metadata": {},
     "output_type": "execute_result"
    }
   ],
   "source": [
    "acumulada_relativa = pd.value_counts(pd.cut(x=dados.Renda,\n",
    "       bins=classes,\n",
    "       labels=labels,\n",
    "       include_lowest=True),\n",
    "       normalize=True)\n",
    "\n",
    "acumulada_relativa = acumulada_relativa.sort_index(ascending=False).cumsum()\n",
    "acumulada_relativa"
   ]
  },
  {
   "cell_type": "markdown",
   "id": "4b19cba6",
   "metadata": {},
   "source": [
    "- ### Todas as frequências no DataFrame"
   ]
  },
  {
   "cell_type": "code",
   "execution_count": 51,
   "id": "3b327eb4",
   "metadata": {},
   "outputs": [
    {
     "data": {
      "text/html": [
       "<div>\n",
       "<style scoped>\n",
       "    .dataframe tbody tr th:only-of-type {\n",
       "        vertical-align: middle;\n",
       "    }\n",
       "\n",
       "    .dataframe tbody tr th {\n",
       "        vertical-align: top;\n",
       "    }\n",
       "\n",
       "    .dataframe thead th {\n",
       "        text-align: right;\n",
       "    }\n",
       "</style>\n",
       "<table border=\"1\" class=\"dataframe\">\n",
       "  <thead>\n",
       "    <tr style=\"text-align: right;\">\n",
       "      <th></th>\n",
       "      <th>Frequência absoluta</th>\n",
       "      <th>Frequência Relativa (%)</th>\n",
       "      <th>Frequência Acumulada</th>\n",
       "      <th>Frequencia A. Relativa (%)</th>\n",
       "      <th>Frequencia A. Relativa</th>\n",
       "    </tr>\n",
       "    <tr>\n",
       "      <th>Renda</th>\n",
       "      <th></th>\n",
       "      <th></th>\n",
       "      <th></th>\n",
       "      <th></th>\n",
       "      <th></th>\n",
       "    </tr>\n",
       "  </thead>\n",
       "  <tbody>\n",
       "    <tr>\n",
       "      <th>A</th>\n",
       "      <td>608</td>\n",
       "      <td>0.791255</td>\n",
       "      <td>608</td>\n",
       "      <td>0.791255</td>\n",
       "      <td>0.007913</td>\n",
       "    </tr>\n",
       "    <tr>\n",
       "      <th>B</th>\n",
       "      <td>2178</td>\n",
       "      <td>2.834461</td>\n",
       "      <td>2786</td>\n",
       "      <td>3.625716</td>\n",
       "      <td>0.036257</td>\n",
       "    </tr>\n",
       "    <tr>\n",
       "      <th>C</th>\n",
       "      <td>7599</td>\n",
       "      <td>9.889381</td>\n",
       "      <td>10385</td>\n",
       "      <td>13.515096</td>\n",
       "      <td>0.135151</td>\n",
       "    </tr>\n",
       "    <tr>\n",
       "      <th>D</th>\n",
       "      <td>16700</td>\n",
       "      <td>21.733472</td>\n",
       "      <td>27085</td>\n",
       "      <td>35.248568</td>\n",
       "      <td>0.352486</td>\n",
       "    </tr>\n",
       "    <tr>\n",
       "      <th>E</th>\n",
       "      <td>49755</td>\n",
       "      <td>64.751432</td>\n",
       "      <td>76840</td>\n",
       "      <td>100.000000</td>\n",
       "      <td>1.000000</td>\n",
       "    </tr>\n",
       "  </tbody>\n",
       "</table>\n",
       "</div>"
      ],
      "text/plain": [
       "       Frequência absoluta  Frequência Relativa (%)  Frequência Acumulada  \\\n",
       "Renda                                                                       \n",
       "A                      608                 0.791255                   608   \n",
       "B                     2178                 2.834461                  2786   \n",
       "C                     7599                 9.889381                 10385   \n",
       "D                    16700                21.733472                 27085   \n",
       "E                    49755                64.751432                 76840   \n",
       "\n",
       "       Frequencia A. Relativa (%)  Frequencia A. Relativa  \n",
       "Renda                                                      \n",
       "A                        0.791255                0.007913  \n",
       "B                        3.625716                0.036257  \n",
       "C                       13.515096                0.135151  \n",
       "D                       35.248568                0.352486  \n",
       "E                      100.000000                1.000000  "
      ]
     },
     "execution_count": 51,
     "metadata": {},
     "output_type": "execute_result"
    }
   ],
   "source": [
    "distribuicao_freq_quantitativa = pd.DataFrame(\n",
    "    {\"Frequência absoluta\": frequencia, \n",
    "     \"Frequência Relativa (%)\": percentual,\n",
    "     \"Frequência Acumulada\": acumulada_absoluta,\n",
    "     \"Frequencia A. Relativa (%)\": acumulada_relativa_percentual,\n",
    "     \"Frequencia A. Relativa\": acumulada_relativa})\n",
    "\n",
    "distribuicao_freq_quantitativa.sort_index(ascending=False)"
   ]
  },
  {
   "cell_type": "markdown",
   "id": "c0b55353",
   "metadata": {},
   "source": [
    "---\n",
    "\n",
    "### Distribuição de frequências para variáveis quantitativas (Amplitude Fixa)\n",
    "\n",
    "#### Definindo o número de classes"
   ]
  },
  {
   "cell_type": "markdown",
   "id": "d68220aa",
   "metadata": {},
   "source": [
    "#### Regra de Sturges\n",
    "\n",
    "A **Regra de Sturges** é uma fórmula usada para determinar o número de classes (intervalos) ideais em uma distribuição de dados. Esta fórmula é útil quando você tem um conjunto de dados e deseja dividi-lo em um número adequado de classes para construir uma tabela de frequência.\n",
    "\n",
    "A fórmula é dada por:\n",
    "\n",
    "## $$k = 1 + \\frac{10}{3} \\log_{10}n$$\n",
    "\n",
    "Onde:\n",
    "\n",
    "- **$k$**: É o número recomendado de classes (ou intervalos) para a distribuição de frequência.\n",
    "- **$n$**: É o número total de observações no conjunto de dados.\n",
    "- **$\\log_{10}$**: É o logaritmo de base 10.\n",
    "\n",
    "#### Como funciona a fórmula?\n",
    "\n",
    "1. **$n$** representa o total de observações (dados) que você tem em seu conjunto de dados.\n",
    "2. **$\\log_{10}$** é o logaritmo de base 10 do valor de **$n$**. O logaritmo ajuda a ajustar o número de classes de acordo com a quantidade de dados. Quanto maior o número de dados, maior o valor de **$k$**.\n",
    "3. A fórmula soma 1 ao valor calculado para ajustar o número mínimo de classes.\n",
    "\n",
    "#### Exemplo de cálculo:\n",
    "\n",
    "Se tivermos 100 dados (ou seja, **$n = 100$**):\n",
    "\n",
    "1. Calcule o logaritmo de 100 na base 10: \n",
    "   \n",
    "   ### $$\\log_{10} 100 = 2$$\n",
    "   \n",
    "2. Aplique a fórmula:\n",
    "\n",
    "   ### $$k = 1 + \\frac{10}{3} \\times 2$$\n",
    "   \n",
    "   ### $$k = 1 + \\frac{20}{3}$$\n",
    "   \n",
    "   ### $$k = 1 + 6.67$$\n",
    "   \n",
    "   ### $$k \\approx 7.67$$\n",
    "\n",
    "Portanto, o número ideal de classes seria aproximadamente **8** (arredondando para o número inteiro mais próximo).\n",
    "\n",
    "#### O que essa fórmula nos diz?\n",
    "\n",
    "A fórmula da **Regra de Sturges** ajuda a evitar que você use muito ou poucas classes ao dividir os dados. Usando esse número recomendado de classes, é possível gerar uma distribuição de frequência mais equilibrada e clara para análise.\n"
   ]
  },
  {
   "cell_type": "code",
   "execution_count": 52,
   "id": "fe8d6a2a",
   "metadata": {},
   "outputs": [
    {
     "data": {
      "text/plain": [
       "76840"
      ]
     },
     "execution_count": 52,
     "metadata": {},
     "output_type": "execute_result"
    }
   ],
   "source": [
    "n = dados.shape[0]\n",
    "n"
   ]
  },
  {
   "cell_type": "code",
   "execution_count": null,
   "id": "98076cc3",
   "metadata": {},
   "outputs": [
    {
     "data": {
      "text/plain": [
       "np.float64(17.285291187298853)"
      ]
     },
     "execution_count": 54,
     "metadata": {},
     "output_type": "execute_result"
    }
   ],
   "source": [
    "# Regra de Sturges\n",
    "k = 1 + (10/3) * np.log10(n)\n",
    "k"
   ]
  },
  {
   "cell_type": "code",
   "execution_count": 55,
   "id": "51675166",
   "metadata": {},
   "outputs": [
    {
     "data": {
      "text/plain": [
       "17"
      ]
     },
     "execution_count": 55,
     "metadata": {},
     "output_type": "execute_result"
    }
   ],
   "source": [
    "k = int(k.round(0))\n",
    "k"
   ]
  },
  {
   "cell_type": "markdown",
   "id": "a650b47d",
   "metadata": {},
   "source": [
    "- ### Criando tabela de frequências\n",
    "- ### Frequência Absoluta ($f_i$)"
   ]
  },
  {
   "cell_type": "code",
   "execution_count": 56,
   "id": "9f1ed5c7",
   "metadata": {},
   "outputs": [
    {
     "name": "stderr",
     "output_type": "stream",
     "text": [
      "C:\\Users\\Windows\\AppData\\Local\\Temp\\ipykernel_17680\\1601654140.py:1: FutureWarning: pandas.value_counts is deprecated and will be removed in a future version. Use pd.Series(obj).value_counts() instead.\n",
      "  frequencia = pd.value_counts(\n"
     ]
    },
    {
     "data": {
      "text/plain": [
       "Renda\n",
       "(-200.001, 11764.706]       75594\n",
       "(11764.706, 23529.412]       1022\n",
       "(23529.412, 35294.118]        169\n",
       "(35294.118, 47058.824]         19\n",
       "(47058.824, 58823.529]         16\n",
       "(58823.529, 70588.235]          5\n",
       "(70588.235, 82352.941]          4\n",
       "(82352.941, 94117.647]          1\n",
       "(94117.647, 105882.353]         6\n",
       "(105882.353, 117647.059]        0\n",
       "(117647.059, 129411.765]        1\n",
       "(129411.765, 141176.471]        0\n",
       "(141176.471, 152941.176]        0\n",
       "(152941.176, 164705.882]        0\n",
       "(164705.882, 176470.588]        0\n",
       "(176470.588, 188235.294]        0\n",
       "(188235.294, 200000.0]          3\n",
       "Name: count, dtype: int64"
      ]
     },
     "execution_count": 56,
     "metadata": {},
     "output_type": "execute_result"
    }
   ],
   "source": [
    "frequencia = pd.value_counts(\n",
    "    pd.cut(x=dados.Renda,\n",
    "           bins= 17,\n",
    "           include_lowest=True),\n",
    "           sort=False\n",
    ")\n",
    "\n",
    "frequencia"
   ]
  },
  {
   "cell_type": "markdown",
   "id": "a65090ac",
   "metadata": {},
   "source": [
    "- ### Frequência Relativa ($f_{r_i}$)"
   ]
  },
  {
   "cell_type": "code",
   "execution_count": 57,
   "id": "a1e882f2",
   "metadata": {},
   "outputs": [
    {
     "name": "stderr",
     "output_type": "stream",
     "text": [
      "C:\\Users\\Windows\\AppData\\Local\\Temp\\ipykernel_17680\\1945920924.py:1: FutureWarning: pandas.value_counts is deprecated and will be removed in a future version. Use pd.Series(obj).value_counts() instead.\n",
      "  percentual = pd.value_counts(\n"
     ]
    },
    {
     "data": {
      "text/plain": [
       "Renda\n",
       "(-200.001, 11764.706]       0.983784\n",
       "(11764.706, 23529.412]      0.013300\n",
       "(23529.412, 35294.118]      0.002199\n",
       "(35294.118, 47058.824]      0.000247\n",
       "(47058.824, 58823.529]      0.000208\n",
       "(58823.529, 70588.235]      0.000065\n",
       "(70588.235, 82352.941]      0.000052\n",
       "(82352.941, 94117.647]      0.000013\n",
       "(94117.647, 105882.353]     0.000078\n",
       "(105882.353, 117647.059]    0.000000\n",
       "(117647.059, 129411.765]    0.000013\n",
       "(129411.765, 141176.471]    0.000000\n",
       "(141176.471, 152941.176]    0.000000\n",
       "(152941.176, 164705.882]    0.000000\n",
       "(164705.882, 176470.588]    0.000000\n",
       "(176470.588, 188235.294]    0.000000\n",
       "(188235.294, 200000.0]      0.000039\n",
       "Name: proportion, dtype: float64"
      ]
     },
     "execution_count": 57,
     "metadata": {},
     "output_type": "execute_result"
    }
   ],
   "source": [
    "percentual = pd.value_counts(\n",
    "    pd.cut(x=dados.Renda,\n",
    "           bins= 17,\n",
    "           include_lowest=True),\n",
    "           sort=False,\n",
    "           normalize=True\n",
    ") \n",
    "\n",
    "percentual"
   ]
  },
  {
   "cell_type": "code",
   "execution_count": 58,
   "id": "b43c4524",
   "metadata": {},
   "outputs": [
    {
     "data": {
      "text/html": [
       "<div>\n",
       "<style scoped>\n",
       "    .dataframe tbody tr th:only-of-type {\n",
       "        vertical-align: middle;\n",
       "    }\n",
       "\n",
       "    .dataframe tbody tr th {\n",
       "        vertical-align: top;\n",
       "    }\n",
       "\n",
       "    .dataframe thead th {\n",
       "        text-align: right;\n",
       "    }\n",
       "</style>\n",
       "<table border=\"1\" class=\"dataframe\">\n",
       "  <thead>\n",
       "    <tr style=\"text-align: right;\">\n",
       "      <th></th>\n",
       "      <th>Frequência absoluta</th>\n",
       "      <th>Frequência Relativa (%)</th>\n",
       "    </tr>\n",
       "    <tr>\n",
       "      <th>Renda</th>\n",
       "      <th></th>\n",
       "      <th></th>\n",
       "    </tr>\n",
       "  </thead>\n",
       "  <tbody>\n",
       "    <tr>\n",
       "      <th>(-200.001, 11764.706]</th>\n",
       "      <td>75594</td>\n",
       "      <td>0.983784</td>\n",
       "    </tr>\n",
       "    <tr>\n",
       "      <th>(11764.706, 23529.412]</th>\n",
       "      <td>1022</td>\n",
       "      <td>0.013300</td>\n",
       "    </tr>\n",
       "    <tr>\n",
       "      <th>(23529.412, 35294.118]</th>\n",
       "      <td>169</td>\n",
       "      <td>0.002199</td>\n",
       "    </tr>\n",
       "    <tr>\n",
       "      <th>(35294.118, 47058.824]</th>\n",
       "      <td>19</td>\n",
       "      <td>0.000247</td>\n",
       "    </tr>\n",
       "    <tr>\n",
       "      <th>(47058.824, 58823.529]</th>\n",
       "      <td>16</td>\n",
       "      <td>0.000208</td>\n",
       "    </tr>\n",
       "    <tr>\n",
       "      <th>(58823.529, 70588.235]</th>\n",
       "      <td>5</td>\n",
       "      <td>0.000065</td>\n",
       "    </tr>\n",
       "    <tr>\n",
       "      <th>(70588.235, 82352.941]</th>\n",
       "      <td>4</td>\n",
       "      <td>0.000052</td>\n",
       "    </tr>\n",
       "    <tr>\n",
       "      <th>(82352.941, 94117.647]</th>\n",
       "      <td>1</td>\n",
       "      <td>0.000013</td>\n",
       "    </tr>\n",
       "    <tr>\n",
       "      <th>(94117.647, 105882.353]</th>\n",
       "      <td>6</td>\n",
       "      <td>0.000078</td>\n",
       "    </tr>\n",
       "    <tr>\n",
       "      <th>(105882.353, 117647.059]</th>\n",
       "      <td>0</td>\n",
       "      <td>0.000000</td>\n",
       "    </tr>\n",
       "    <tr>\n",
       "      <th>(117647.059, 129411.765]</th>\n",
       "      <td>1</td>\n",
       "      <td>0.000013</td>\n",
       "    </tr>\n",
       "    <tr>\n",
       "      <th>(129411.765, 141176.471]</th>\n",
       "      <td>0</td>\n",
       "      <td>0.000000</td>\n",
       "    </tr>\n",
       "    <tr>\n",
       "      <th>(141176.471, 152941.176]</th>\n",
       "      <td>0</td>\n",
       "      <td>0.000000</td>\n",
       "    </tr>\n",
       "    <tr>\n",
       "      <th>(152941.176, 164705.882]</th>\n",
       "      <td>0</td>\n",
       "      <td>0.000000</td>\n",
       "    </tr>\n",
       "    <tr>\n",
       "      <th>(164705.882, 176470.588]</th>\n",
       "      <td>0</td>\n",
       "      <td>0.000000</td>\n",
       "    </tr>\n",
       "    <tr>\n",
       "      <th>(176470.588, 188235.294]</th>\n",
       "      <td>0</td>\n",
       "      <td>0.000000</td>\n",
       "    </tr>\n",
       "    <tr>\n",
       "      <th>(188235.294, 200000.0]</th>\n",
       "      <td>3</td>\n",
       "      <td>0.000039</td>\n",
       "    </tr>\n",
       "  </tbody>\n",
       "</table>\n",
       "</div>"
      ],
      "text/plain": [
       "                          Frequência absoluta  Frequência Relativa (%)\n",
       "Renda                                                                 \n",
       "(-200.001, 11764.706]                   75594                 0.983784\n",
       "(11764.706, 23529.412]                   1022                 0.013300\n",
       "(23529.412, 35294.118]                    169                 0.002199\n",
       "(35294.118, 47058.824]                     19                 0.000247\n",
       "(47058.824, 58823.529]                     16                 0.000208\n",
       "(58823.529, 70588.235]                      5                 0.000065\n",
       "(70588.235, 82352.941]                      4                 0.000052\n",
       "(82352.941, 94117.647]                      1                 0.000013\n",
       "(94117.647, 105882.353]                     6                 0.000078\n",
       "(105882.353, 117647.059]                    0                 0.000000\n",
       "(117647.059, 129411.765]                    1                 0.000013\n",
       "(129411.765, 141176.471]                    0                 0.000000\n",
       "(141176.471, 152941.176]                    0                 0.000000\n",
       "(152941.176, 164705.882]                    0                 0.000000\n",
       "(164705.882, 176470.588]                    0                 0.000000\n",
       "(176470.588, 188235.294]                    0                 0.000000\n",
       "(188235.294, 200000.0]                      3                 0.000039"
      ]
     },
     "execution_count": 58,
     "metadata": {},
     "output_type": "execute_result"
    }
   ],
   "source": [
    "dist_freq_quantitativa_amp_fixa = pd.DataFrame(\n",
    "    {\"Frequência absoluta\": frequencia, \n",
    "     \"Frequência Relativa (%)\": percentual,})\n",
    "\n",
    "dist_freq_quantitativa_amp_fixa"
   ]
  },
  {
   "cell_type": "code",
   "execution_count": null,
   "id": "86bdfef2",
   "metadata": {},
   "outputs": [],
   "source": []
  }
 ],
 "metadata": {
  "kernelspec": {
   "display_name": "Python 3",
   "language": "python",
   "name": "python3"
  },
  "language_info": {
   "codemirror_mode": {
    "name": "ipython",
    "version": 3
   },
   "file_extension": ".py",
   "mimetype": "text/x-python",
   "name": "python",
   "nbconvert_exporter": "python",
   "pygments_lexer": "ipython3",
   "version": "3.13.1"
  }
 },
 "nbformat": 4,
 "nbformat_minor": 5
}
