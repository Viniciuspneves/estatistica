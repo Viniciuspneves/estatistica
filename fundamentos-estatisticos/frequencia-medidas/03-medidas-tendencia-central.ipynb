{
 "cells": [
  {
   "cell_type": "markdown",
   "id": "16b1a0a0",
   "metadata": {},
   "source": [
    "# Medidas de Tendência Central"
   ]
  },
  {
   "cell_type": "markdown",
   "id": "d03fc624",
   "metadata": {},
   "source": [
    "### Importando bibliotecas\n",
    "\n",
    "- https://pandas.pydata.org/"
   ]
  },
  {
   "cell_type": "code",
   "execution_count": 2,
   "id": "3892bfb6",
   "metadata": {},
   "outputs": [],
   "source": [
    "import pandas as pd"
   ]
  },
  {
   "cell_type": "markdown",
   "id": "a965af54",
   "metadata": {},
   "source": [
    "### DataFrame Exemplo:"
   ]
  },
  {
   "cell_type": "code",
   "execution_count": 4,
   "id": "fd93d7ba",
   "metadata": {},
   "outputs": [
    {
     "data": {
      "text/html": [
       "<div>\n",
       "<style scoped>\n",
       "    .dataframe tbody tr th:only-of-type {\n",
       "        vertical-align: middle;\n",
       "    }\n",
       "\n",
       "    .dataframe tbody tr th {\n",
       "        vertical-align: top;\n",
       "    }\n",
       "\n",
       "    .dataframe thead th {\n",
       "        text-align: right;\n",
       "    }\n",
       "</style>\n",
       "<table border=\"1\" class=\"dataframe\">\n",
       "  <thead>\n",
       "    <tr style=\"text-align: right;\">\n",
       "      <th>Matérias</th>\n",
       "      <th>Fulano</th>\n",
       "      <th>Beltrano</th>\n",
       "      <th>Sicrano</th>\n",
       "    </tr>\n",
       "  </thead>\n",
       "  <tbody>\n",
       "    <tr>\n",
       "      <th>Matemática</th>\n",
       "      <td>8</td>\n",
       "      <td>10.0</td>\n",
       "      <td>7.5</td>\n",
       "    </tr>\n",
       "    <tr>\n",
       "      <th>português</th>\n",
       "      <td>10</td>\n",
       "      <td>2.0</td>\n",
       "      <td>8.0</td>\n",
       "    </tr>\n",
       "    <tr>\n",
       "      <th>Inglês</th>\n",
       "      <td>4</td>\n",
       "      <td>0.5</td>\n",
       "      <td>7.0</td>\n",
       "    </tr>\n",
       "    <tr>\n",
       "      <th>Geografia</th>\n",
       "      <td>8</td>\n",
       "      <td>1.0</td>\n",
       "      <td>8.0</td>\n",
       "    </tr>\n",
       "    <tr>\n",
       "      <th>História</th>\n",
       "      <td>6</td>\n",
       "      <td>3.0</td>\n",
       "      <td>8.0</td>\n",
       "    </tr>\n",
       "    <tr>\n",
       "      <th>Física</th>\n",
       "      <td>10</td>\n",
       "      <td>9.5</td>\n",
       "      <td>8.5</td>\n",
       "    </tr>\n",
       "    <tr>\n",
       "      <th>Química</th>\n",
       "      <td>8</td>\n",
       "      <td>10.0</td>\n",
       "      <td>7.0</td>\n",
       "    </tr>\n",
       "  </tbody>\n",
       "</table>\n",
       "</div>"
      ],
      "text/plain": [
       "Matérias    Fulano  Beltrano  Sicrano\n",
       "Matemática       8      10.0      7.5\n",
       "português       10       2.0      8.0\n",
       "Inglês           4       0.5      7.0\n",
       "Geografia        8       1.0      8.0\n",
       "História         6       3.0      8.0\n",
       "Física          10       9.5      8.5\n",
       "Química          8      10.0      7.0"
      ]
     },
     "execution_count": 4,
     "metadata": {},
     "output_type": "execute_result"
    }
   ],
   "source": [
    "df = pd.DataFrame(data={\"Fulano\": [8,10,4,8,6,10,8],\n",
    "                        \"Beltrano\": [10,2,0.5,1,3,9.5,10],\n",
    "                        \"Sicrano\": [7.5,8,7,8,8,8.5,7]},\n",
    "                  index=[\"Matemática\",\n",
    "                         \"português\",\n",
    "                         \"Inglês\",\n",
    "                         \"Geografia\",\n",
    "                         \"História\",\n",
    "                         \"Física\",\n",
    "                         \"Química\"])\n",
    "\n",
    "df.rename_axis(\"Matérias\", axis=\"columns\", inplace=True)\n",
    "df"
   ]
  },
  {
   "cell_type": "markdown",
   "id": "301da196",
   "metadata": {},
   "source": [
    "### Média Aritmética\n",
    "\n",
    "## $$\\mu = \\frac{1}{n} \\sum_{i=1}^{n} X_i$$\n",
    "\n",
    "Representa o valor central de um conjunto de dados. É como se todos os valores fossem somados e depois igualmente repartidos.   \n",
    "- **Para população:** usa-se o símbolo $\\mu$  \n",
    "- **Para amostra:** usa-se o símbolo $\\bar{X}$\n",
    "- $n$: número total de observações\n",
    "- $X_i$: valor da $i$-ésima observação"
   ]
  },
  {
   "cell_type": "markdown",
   "id": "890825ac",
   "metadata": {},
   "source": [
    "#### Calculando manualmente\n",
    "- Soma os elementos do conjunto e divide pela quantidade de elementos no conjunto"
   ]
  },
  {
   "cell_type": "code",
   "execution_count": null,
   "id": "f7b1f94b",
   "metadata": {},
   "outputs": [
    {
     "data": {
      "text/plain": [
       "7.714285714285714"
      ]
     },
     "execution_count": 5,
     "metadata": {},
     "output_type": "execute_result"
    }
   ],
   "source": [
    "# Total de 7 elementos\n",
    "(8 + 10 + 4 + 8 + 6 + 10 + 8) / 7"
   ]
  },
  {
   "cell_type": "markdown",
   "id": "d3581ab6",
   "metadata": {},
   "source": [
    "#### Utilizando o pandas"
   ]
  },
  {
   "cell_type": "code",
   "execution_count": 6,
   "id": "7ce3b4b2",
   "metadata": {},
   "outputs": [
    {
     "data": {
      "text/plain": [
       "np.float64(7.714285714285714)"
      ]
     },
     "execution_count": 6,
     "metadata": {},
     "output_type": "execute_result"
    }
   ],
   "source": [
    "df[\"Fulano\"].mean()"
   ]
  },
  {
   "cell_type": "markdown",
   "id": "79bb7125",
   "metadata": {},
   "source": [
    "### Importando dados\n",
    "- dados utilizados no notebook `02-tabela-de-frequencia`"
   ]
  },
  {
   "cell_type": "code",
   "execution_count": 10,
   "id": "4f3c27af",
   "metadata": {},
   "outputs": [
    {
     "data": {
      "text/html": [
       "<div>\n",
       "<style scoped>\n",
       "    .dataframe tbody tr th:only-of-type {\n",
       "        vertical-align: middle;\n",
       "    }\n",
       "\n",
       "    .dataframe tbody tr th {\n",
       "        vertical-align: top;\n",
       "    }\n",
       "\n",
       "    .dataframe thead th {\n",
       "        text-align: right;\n",
       "    }\n",
       "</style>\n",
       "<table border=\"1\" class=\"dataframe\">\n",
       "  <thead>\n",
       "    <tr style=\"text-align: right;\">\n",
       "      <th></th>\n",
       "      <th>UF</th>\n",
       "      <th>Sexo</th>\n",
       "      <th>Idade</th>\n",
       "      <th>Cor</th>\n",
       "      <th>Anos de Estudo</th>\n",
       "      <th>Renda</th>\n",
       "      <th>Altura</th>\n",
       "    </tr>\n",
       "  </thead>\n",
       "  <tbody>\n",
       "    <tr>\n",
       "      <th>0</th>\n",
       "      <td>11</td>\n",
       "      <td>0</td>\n",
       "      <td>23</td>\n",
       "      <td>8</td>\n",
       "      <td>12</td>\n",
       "      <td>800</td>\n",
       "      <td>1.603808</td>\n",
       "    </tr>\n",
       "    <tr>\n",
       "      <th>1</th>\n",
       "      <td>11</td>\n",
       "      <td>1</td>\n",
       "      <td>23</td>\n",
       "      <td>2</td>\n",
       "      <td>12</td>\n",
       "      <td>1150</td>\n",
       "      <td>1.739790</td>\n",
       "    </tr>\n",
       "    <tr>\n",
       "      <th>2</th>\n",
       "      <td>11</td>\n",
       "      <td>1</td>\n",
       "      <td>35</td>\n",
       "      <td>8</td>\n",
       "      <td>15</td>\n",
       "      <td>880</td>\n",
       "      <td>1.760444</td>\n",
       "    </tr>\n",
       "    <tr>\n",
       "      <th>3</th>\n",
       "      <td>11</td>\n",
       "      <td>0</td>\n",
       "      <td>46</td>\n",
       "      <td>2</td>\n",
       "      <td>6</td>\n",
       "      <td>3500</td>\n",
       "      <td>1.783158</td>\n",
       "    </tr>\n",
       "    <tr>\n",
       "      <th>4</th>\n",
       "      <td>11</td>\n",
       "      <td>1</td>\n",
       "      <td>47</td>\n",
       "      <td>8</td>\n",
       "      <td>9</td>\n",
       "      <td>150</td>\n",
       "      <td>1.690631</td>\n",
       "    </tr>\n",
       "  </tbody>\n",
       "</table>\n",
       "</div>"
      ],
      "text/plain": [
       "   UF  Sexo  Idade  Cor  Anos de Estudo  Renda    Altura\n",
       "0  11     0     23    8              12    800  1.603808\n",
       "1  11     1     23    2              12   1150  1.739790\n",
       "2  11     1     35    8              15    880  1.760444\n",
       "3  11     0     46    2               6   3500  1.783158\n",
       "4  11     1     47    8               9    150  1.690631"
      ]
     },
     "execution_count": 10,
     "metadata": {},
     "output_type": "execute_result"
    }
   ],
   "source": [
    "dados = pd.read_csv(\"dados.csv\")\n",
    "dados.head()"
   ]
  },
  {
   "cell_type": "code",
   "execution_count": 9,
   "id": "ed84c31f",
   "metadata": {},
   "outputs": [
    {
     "data": {
      "text/plain": [
       "np.float64(2000.3831988547631)"
      ]
     },
     "execution_count": 9,
     "metadata": {},
     "output_type": "execute_result"
    }
   ],
   "source": [
    "dados[\"Renda\"].mean()"
   ]
  },
  {
   "cell_type": "markdown",
   "id": "72db84e3",
   "metadata": {},
   "source": [
    "- Para variáveis **qualitativas** não calculamos a média, para isso precisamos fazer manipulações nos dados, por exemplo a coluna sexo, já esta convertida para 0 = masculino e 1 = feminino, então conseguimos manipular, se fosse ao contrario era só convertermos"
   ]
  },
  {
   "cell_type": "code",
   "execution_count": null,
   "id": "29f9e12a",
   "metadata": {},
   "outputs": [
    {
     "data": {
      "text/plain": [
       "Sexo\n",
       "0    2192.441596\n",
       "1    1566.847393\n",
       "Name: Renda, dtype: float64"
      ]
     },
     "execution_count": 11,
     "metadata": {},
     "output_type": "execute_result"
    }
   ],
   "source": [
    "# Média da renda por sexo\n",
    "dados.groupby([\"Sexo\"])[\"Renda\"].mean()"
   ]
  },
  {
   "cell_type": "markdown",
   "id": "f5e3f348",
   "metadata": {},
   "source": [
    "\n",
    "---\n",
    "\n",
    "### $\\tilde{X}$ — Mediana\n",
    "\n",
    "- **Definição:** A mediana representa o valor central de um conjunto de dados ordenados. Ela divide os dados ao meio: 50% dos valores estão abaixo dela e 50% estão acima.\n",
    "- **Símbolo:** $\\tilde{X}$\n",
    "- **Aplicação:** É uma medida de tendência central robusta, muito útil quando existem valores extremos **(outliers)**, já que **não** é influenciada por eles — diferente da média.\n",
    "\n",
    "---\n",
    "\n",
    "#### Como calcular:\n",
    "\n",
    "1. **Ordene os dados** em ordem crescente.\n",
    "2. Se o número de dados ($n$) for **ímpar**, a mediana é o valor central:\n",
    "\n",
    "## $$\\tilde{X} = X_{\\frac{n+1}{2}}$$\n",
    "\n",
    "3. Se $n$ for **par**, a mediana é a média dos dois valores centrais:\n",
    "   \n",
    "## $$\\tilde{X} = \\frac{X_{\\frac{n}{2}} + X_{\\frac{n}{2} + 1}}{2}$$\n",
    "\n",
    "---\n",
    "\n",
    "#### Exemplo (n ímpar):\n",
    "\n",
    "Dados: 2, 5, 7, 8, 12  \n",
    "$n = 5$ (ímpar), então:\n",
    "\n",
    "## $$\\tilde{X} = X_3 = 7$$\n",
    "\n",
    "---\n",
    "\n",
    "#### Exemplo (n par):\n",
    "\n",
    "Dados: 3, 4, 6, 8  \n",
    "$n = 4$ (par), então:\n",
    "\n",
    "## $$\\tilde{X} = \\frac{X_2 + X_3}{2} = \\frac{4 + 6}{2} = 5$$\n"
   ]
  },
  {
   "cell_type": "markdown",
   "id": "6236221d",
   "metadata": {},
   "source": [
    "#### Calculando manualmente\n",
    "\n",
    "- #### Impar"
   ]
  },
  {
   "cell_type": "code",
   "execution_count": 37,
   "id": "e2d17157",
   "metadata": {},
   "outputs": [
    {
     "data": {
      "text/html": [
       "<div>\n",
       "<style scoped>\n",
       "    .dataframe tbody tr th:only-of-type {\n",
       "        vertical-align: middle;\n",
       "    }\n",
       "\n",
       "    .dataframe tbody tr th {\n",
       "        vertical-align: top;\n",
       "    }\n",
       "\n",
       "    .dataframe thead th {\n",
       "        text-align: right;\n",
       "    }\n",
       "</style>\n",
       "<table border=\"1\" class=\"dataframe\">\n",
       "  <thead>\n",
       "    <tr style=\"text-align: right;\">\n",
       "      <th></th>\n",
       "      <th>index</th>\n",
       "      <th>Fulano</th>\n",
       "    </tr>\n",
       "  </thead>\n",
       "  <tbody>\n",
       "    <tr>\n",
       "      <th>0</th>\n",
       "      <td>Matemática</td>\n",
       "      <td>8</td>\n",
       "    </tr>\n",
       "    <tr>\n",
       "      <th>1</th>\n",
       "      <td>português</td>\n",
       "      <td>10</td>\n",
       "    </tr>\n",
       "    <tr>\n",
       "      <th>2</th>\n",
       "      <td>Inglês</td>\n",
       "      <td>4</td>\n",
       "    </tr>\n",
       "    <tr>\n",
       "      <th>3</th>\n",
       "      <td>Geografia</td>\n",
       "      <td>8</td>\n",
       "    </tr>\n",
       "    <tr>\n",
       "      <th>4</th>\n",
       "      <td>História</td>\n",
       "      <td>6</td>\n",
       "    </tr>\n",
       "    <tr>\n",
       "      <th>5</th>\n",
       "      <td>Física</td>\n",
       "      <td>10</td>\n",
       "    </tr>\n",
       "    <tr>\n",
       "      <th>6</th>\n",
       "      <td>Química</td>\n",
       "      <td>8</td>\n",
       "    </tr>\n",
       "  </tbody>\n",
       "</table>\n",
       "</div>"
      ],
      "text/plain": [
       "        index  Fulano\n",
       "0  Matemática       8\n",
       "1   português      10\n",
       "2      Inglês       4\n",
       "3   Geografia       8\n",
       "4    História       6\n",
       "5      Física      10\n",
       "6     Química       8"
      ]
     },
     "execution_count": 37,
     "metadata": {},
     "output_type": "execute_result"
    }
   ],
   "source": [
    "notas_fulano = df[\"Fulano\"].reset_index()\n",
    "notas_fulano"
   ]
  },
  {
   "cell_type": "markdown",
   "id": "e2cb1680",
   "metadata": {},
   "source": [
    "- Ordenando os dados em ordem crescente"
   ]
  },
  {
   "cell_type": "code",
   "execution_count": 27,
   "id": "fb51b2c1",
   "metadata": {},
   "outputs": [
    {
     "data": {
      "text/html": [
       "<div>\n",
       "<style scoped>\n",
       "    .dataframe tbody tr th:only-of-type {\n",
       "        vertical-align: middle;\n",
       "    }\n",
       "\n",
       "    .dataframe tbody tr th {\n",
       "        vertical-align: top;\n",
       "    }\n",
       "\n",
       "    .dataframe thead th {\n",
       "        text-align: right;\n",
       "    }\n",
       "</style>\n",
       "<table border=\"1\" class=\"dataframe\">\n",
       "  <thead>\n",
       "    <tr style=\"text-align: right;\">\n",
       "      <th></th>\n",
       "      <th>index</th>\n",
       "      <th>Fulano</th>\n",
       "    </tr>\n",
       "  </thead>\n",
       "  <tbody>\n",
       "    <tr>\n",
       "      <th>0</th>\n",
       "      <td>Inglês</td>\n",
       "      <td>4</td>\n",
       "    </tr>\n",
       "    <tr>\n",
       "      <th>1</th>\n",
       "      <td>História</td>\n",
       "      <td>6</td>\n",
       "    </tr>\n",
       "    <tr>\n",
       "      <th>2</th>\n",
       "      <td>Geografia</td>\n",
       "      <td>8</td>\n",
       "    </tr>\n",
       "    <tr>\n",
       "      <th>3</th>\n",
       "      <td>Matemática</td>\n",
       "      <td>8</td>\n",
       "    </tr>\n",
       "    <tr>\n",
       "      <th>4</th>\n",
       "      <td>Química</td>\n",
       "      <td>8</td>\n",
       "    </tr>\n",
       "    <tr>\n",
       "      <th>5</th>\n",
       "      <td>português</td>\n",
       "      <td>10</td>\n",
       "    </tr>\n",
       "    <tr>\n",
       "      <th>6</th>\n",
       "      <td>Física</td>\n",
       "      <td>10</td>\n",
       "    </tr>\n",
       "  </tbody>\n",
       "</table>\n",
       "</div>"
      ],
      "text/plain": [
       "        index  Fulano\n",
       "0      Inglês       4\n",
       "1    História       6\n",
       "2   Geografia       8\n",
       "3  Matemática       8\n",
       "4     Química       8\n",
       "5   português      10\n",
       "6      Física      10"
      ]
     },
     "execution_count": 27,
     "metadata": {},
     "output_type": "execute_result"
    }
   ],
   "source": [
    "notas_fulano = df[\"Fulano\"].sort_values().reset_index()\n",
    "notas_fulano"
   ]
  },
  {
   "cell_type": "markdown",
   "id": "ac67d576",
   "metadata": {},
   "source": [
    "- Temos uma quantidade impar"
   ]
  },
  {
   "cell_type": "code",
   "execution_count": null,
   "id": "f14836ed",
   "metadata": {},
   "outputs": [
    {
     "data": {
      "text/plain": [
       "7"
      ]
     },
     "execution_count": 18,
     "metadata": {},
     "output_type": "execute_result"
    }
   ],
   "source": [
    "#Obetendo o a quantidade total\n",
    "n = notas_fulano.shape[0]\n",
    "n"
   ]
  },
  {
   "cell_type": "code",
   "execution_count": null,
   "id": "07402212",
   "metadata": {},
   "outputs": [
    {
     "data": {
      "text/plain": [
       "4.0"
      ]
     },
     "execution_count": 20,
     "metadata": {},
     "output_type": "execute_result"
    }
   ],
   "source": [
    "# Posição do elemento\n",
    "posicao_X = (n + 1) / 2\n",
    "posicao_X"
   ]
  },
  {
   "cell_type": "markdown",
   "id": "f6ad0182",
   "metadata": {},
   "source": [
    "- Nossa mediana é o valor 8"
   ]
  },
  {
   "cell_type": "code",
   "execution_count": 32,
   "id": "d69c9d13",
   "metadata": {},
   "outputs": [
    {
     "data": {
      "text/plain": [
       "index     Matemática\n",
       "Fulano             8\n",
       "Name: 3, dtype: object"
      ]
     },
     "execution_count": 32,
     "metadata": {},
     "output_type": "execute_result"
    }
   ],
   "source": [
    "notas_fulano = df[\"Fulano\"].sort_values().reset_index()\n",
    "notas_fulano.loc[posicao_X - 1]"
   ]
  },
  {
   "cell_type": "markdown",
   "id": "e4fcf242",
   "metadata": {},
   "source": [
    "#### Utilizando o pandas"
   ]
  },
  {
   "cell_type": "code",
   "execution_count": 36,
   "id": "c503abfa",
   "metadata": {},
   "outputs": [
    {
     "data": {
      "text/plain": [
       "np.float64(8.0)"
      ]
     },
     "execution_count": 36,
     "metadata": {},
     "output_type": "execute_result"
    }
   ],
   "source": [
    "notas_fulano[\"Fulano\"].median()"
   ]
  },
  {
   "cell_type": "markdown",
   "id": "e26d83be",
   "metadata": {},
   "source": [
    "- ### Par\n"
   ]
  },
  {
   "cell_type": "code",
   "execution_count": 38,
   "id": "a496eaea",
   "metadata": {},
   "outputs": [
    {
     "data": {
      "text/plain": [
       "Matemática    10.0\n",
       "Inglês         0.5\n",
       "Física         9.5\n",
       "História       3.0\n",
       "Química       10.0\n",
       "português      2.0\n",
       "Name: Beltrano, dtype: float64"
      ]
     },
     "execution_count": 38,
     "metadata": {},
     "output_type": "execute_result"
    }
   ],
   "source": [
    "notas_beltrano = df[\"Beltrano\"].sample(6, random_state=101)\n",
    "notas_beltrano"
   ]
  },
  {
   "cell_type": "code",
   "execution_count": 42,
   "id": "ba811abe",
   "metadata": {},
   "outputs": [
    {
     "data": {
      "text/html": [
       "<div>\n",
       "<style scoped>\n",
       "    .dataframe tbody tr th:only-of-type {\n",
       "        vertical-align: middle;\n",
       "    }\n",
       "\n",
       "    .dataframe tbody tr th {\n",
       "        vertical-align: top;\n",
       "    }\n",
       "\n",
       "    .dataframe thead th {\n",
       "        text-align: right;\n",
       "    }\n",
       "</style>\n",
       "<table border=\"1\" class=\"dataframe\">\n",
       "  <thead>\n",
       "    <tr style=\"text-align: right;\">\n",
       "      <th></th>\n",
       "      <th>index</th>\n",
       "      <th>Beltrano</th>\n",
       "    </tr>\n",
       "  </thead>\n",
       "  <tbody>\n",
       "    <tr>\n",
       "      <th>0</th>\n",
       "      <td>Inglês</td>\n",
       "      <td>0.5</td>\n",
       "    </tr>\n",
       "    <tr>\n",
       "      <th>1</th>\n",
       "      <td>português</td>\n",
       "      <td>2.0</td>\n",
       "    </tr>\n",
       "    <tr>\n",
       "      <th>2</th>\n",
       "      <td>História</td>\n",
       "      <td>3.0</td>\n",
       "    </tr>\n",
       "    <tr>\n",
       "      <th>3</th>\n",
       "      <td>Física</td>\n",
       "      <td>9.5</td>\n",
       "    </tr>\n",
       "    <tr>\n",
       "      <th>4</th>\n",
       "      <td>Matemática</td>\n",
       "      <td>10.0</td>\n",
       "    </tr>\n",
       "    <tr>\n",
       "      <th>5</th>\n",
       "      <td>Química</td>\n",
       "      <td>10.0</td>\n",
       "    </tr>\n",
       "  </tbody>\n",
       "</table>\n",
       "</div>"
      ],
      "text/plain": [
       "        index  Beltrano\n",
       "0      Inglês       0.5\n",
       "1   português       2.0\n",
       "2    História       3.0\n",
       "3      Física       9.5\n",
       "4  Matemática      10.0\n",
       "5     Química      10.0"
      ]
     },
     "execution_count": 42,
     "metadata": {},
     "output_type": "execute_result"
    }
   ],
   "source": [
    "notas_beltrano.sort_values().reset_index()"
   ]
  },
  {
   "cell_type": "code",
   "execution_count": 45,
   "id": "0c4ca33e",
   "metadata": {},
   "outputs": [
    {
     "data": {
      "text/plain": [
       "6"
      ]
     },
     "execution_count": 45,
     "metadata": {},
     "output_type": "execute_result"
    }
   ],
   "source": [
    "n = notas_beltrano.shape[0]\n",
    "n"
   ]
  },
  {
   "cell_type": "code",
   "execution_count": null,
   "id": "986076f2",
   "metadata": {},
   "outputs": [
    {
     "name": "stdout",
     "output_type": "stream",
     "text": [
      "3.0 4.0\n"
     ]
    }
   ],
   "source": [
    "posicao_elemento_1 = (n / 2)\n",
    "posicao_elemento_2 = (n / 2) + 1\n",
    "print(posicao_elemento_1, posicao_elemento_2)"
   ]
  },
  {
   "cell_type": "markdown",
   "id": "5917a3c1",
   "metadata": {},
   "source": [
    "- **Observação**: A contagem sempre começa no zero, então as posições são $3 = 2$ e $4 = 3$"
   ]
  },
  {
   "cell_type": "code",
   "execution_count": 59,
   "id": "78b02119",
   "metadata": {},
   "outputs": [
    {
     "data": {
      "text/plain": [
       "np.float64(12.5)"
      ]
     },
     "execution_count": 59,
     "metadata": {},
     "output_type": "execute_result"
    }
   ],
   "source": [
    "# Resetando o index para acessar a pósição\n",
    "notas_beltrano_reset = notas_beltrano.reset_index(drop=True)\n",
    "soma_posicao = notas_beltrano_reset.loc[2] + notas_beltrano_reset.loc[3]\n",
    "soma_posicao"
   ]
  },
  {
   "cell_type": "code",
   "execution_count": 60,
   "id": "b9c1f120",
   "metadata": {},
   "outputs": [
    {
     "data": {
      "text/plain": [
       "np.float64(6.25)"
      ]
     },
     "execution_count": 60,
     "metadata": {},
     "output_type": "execute_result"
    }
   ],
   "source": [
    "mediana = soma_posicao / 2 \n",
    "mediana"
   ]
  },
  {
   "cell_type": "markdown",
   "id": "099609e4",
   "metadata": {},
   "source": [
    "- ### Calculando com o pandas"
   ]
  },
  {
   "cell_type": "code",
   "execution_count": 66,
   "id": "e2a68a9f",
   "metadata": {},
   "outputs": [
    {
     "data": {
      "text/plain": [
       "np.float64(6.25)"
      ]
     },
     "execution_count": 66,
     "metadata": {},
     "output_type": "execute_result"
    }
   ],
   "source": [
    "notas_beltrano.median()"
   ]
  },
  {
   "cell_type": "markdown",
   "id": "335cd108",
   "metadata": {},
   "source": [
    "- ### Mediana no dataset"
   ]
  },
  {
   "cell_type": "code",
   "execution_count": 67,
   "id": "36c5c50c",
   "metadata": {},
   "outputs": [
    {
     "data": {
      "text/html": [
       "<div>\n",
       "<style scoped>\n",
       "    .dataframe tbody tr th:only-of-type {\n",
       "        vertical-align: middle;\n",
       "    }\n",
       "\n",
       "    .dataframe tbody tr th {\n",
       "        vertical-align: top;\n",
       "    }\n",
       "\n",
       "    .dataframe thead th {\n",
       "        text-align: right;\n",
       "    }\n",
       "</style>\n",
       "<table border=\"1\" class=\"dataframe\">\n",
       "  <thead>\n",
       "    <tr style=\"text-align: right;\">\n",
       "      <th></th>\n",
       "      <th>UF</th>\n",
       "      <th>Sexo</th>\n",
       "      <th>Idade</th>\n",
       "      <th>Cor</th>\n",
       "      <th>Anos de Estudo</th>\n",
       "      <th>Renda</th>\n",
       "      <th>Altura</th>\n",
       "    </tr>\n",
       "  </thead>\n",
       "  <tbody>\n",
       "    <tr>\n",
       "      <th>0</th>\n",
       "      <td>11</td>\n",
       "      <td>0</td>\n",
       "      <td>23</td>\n",
       "      <td>8</td>\n",
       "      <td>12</td>\n",
       "      <td>800</td>\n",
       "      <td>1.603808</td>\n",
       "    </tr>\n",
       "    <tr>\n",
       "      <th>1</th>\n",
       "      <td>11</td>\n",
       "      <td>1</td>\n",
       "      <td>23</td>\n",
       "      <td>2</td>\n",
       "      <td>12</td>\n",
       "      <td>1150</td>\n",
       "      <td>1.739790</td>\n",
       "    </tr>\n",
       "    <tr>\n",
       "      <th>2</th>\n",
       "      <td>11</td>\n",
       "      <td>1</td>\n",
       "      <td>35</td>\n",
       "      <td>8</td>\n",
       "      <td>15</td>\n",
       "      <td>880</td>\n",
       "      <td>1.760444</td>\n",
       "    </tr>\n",
       "    <tr>\n",
       "      <th>3</th>\n",
       "      <td>11</td>\n",
       "      <td>0</td>\n",
       "      <td>46</td>\n",
       "      <td>2</td>\n",
       "      <td>6</td>\n",
       "      <td>3500</td>\n",
       "      <td>1.783158</td>\n",
       "    </tr>\n",
       "    <tr>\n",
       "      <th>4</th>\n",
       "      <td>11</td>\n",
       "      <td>1</td>\n",
       "      <td>47</td>\n",
       "      <td>8</td>\n",
       "      <td>9</td>\n",
       "      <td>150</td>\n",
       "      <td>1.690631</td>\n",
       "    </tr>\n",
       "  </tbody>\n",
       "</table>\n",
       "</div>"
      ],
      "text/plain": [
       "   UF  Sexo  Idade  Cor  Anos de Estudo  Renda    Altura\n",
       "0  11     0     23    8              12    800  1.603808\n",
       "1  11     1     23    2              12   1150  1.739790\n",
       "2  11     1     35    8              15    880  1.760444\n",
       "3  11     0     46    2               6   3500  1.783158\n",
       "4  11     1     47    8               9    150  1.690631"
      ]
     },
     "execution_count": 67,
     "metadata": {},
     "output_type": "execute_result"
    }
   ],
   "source": [
    "dados.head()"
   ]
  },
  {
   "cell_type": "code",
   "execution_count": 70,
   "id": "391a4f36",
   "metadata": {},
   "outputs": [
    {
     "name": "stdout",
     "output_type": "stream",
     "text": [
      "A renda média no nosso dataset é R$ 1200.0\n"
     ]
    }
   ],
   "source": [
    "\n",
    "print(f\"A renda média no nosso dataset é R$ {dados[\"Renda\"].median()}\")"
   ]
  },
  {
   "cell_type": "code",
   "execution_count": 74,
   "id": "b8394768",
   "metadata": {},
   "outputs": [
    {
     "name": "stdout",
     "output_type": "stream",
     "text": [
      "A altura média é de 1.7 metros\n"
     ]
    }
   ],
   "source": [
    "print(f\"A altura média é de {round(dados[\"Altura\"].median(),2)} metros\")"
   ]
  },
  {
   "cell_type": "code",
   "execution_count": 80,
   "id": "bb81474f",
   "metadata": {},
   "outputs": [
    {
     "name": "stdout",
     "output_type": "stream",
     "text": [
      "A idade média é de 43 anos\n"
     ]
    }
   ],
   "source": [
    "print(f\"A idade média é de {int(dados['Idade'].median())} anos\")"
   ]
  },
  {
   "cell_type": "code",
   "execution_count": null,
   "id": "db5effff",
   "metadata": {},
   "outputs": [],
   "source": []
  }
 ],
 "metadata": {
  "kernelspec": {
   "display_name": "Python 3",
   "language": "python",
   "name": "python3"
  },
  "language_info": {
   "codemirror_mode": {
    "name": "ipython",
    "version": 3
   },
   "file_extension": ".py",
   "mimetype": "text/x-python",
   "name": "python",
   "nbconvert_exporter": "python",
   "pygments_lexer": "ipython3",
   "version": "3.13.1"
  }
 },
 "nbformat": 4,
 "nbformat_minor": 5
}
