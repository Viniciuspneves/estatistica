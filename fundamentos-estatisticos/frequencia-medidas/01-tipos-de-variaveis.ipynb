{
 "cells": [
  {
   "cell_type": "markdown",
   "id": "087e5adc",
   "metadata": {},
   "source": [
    "# Tipos de Variáveis\n",
    "\n",
    "<img src=\"../../assets/Tipos%20de%20Variáveis.jpg\" alt=\"Descrição da Imagem\" width=\"900\">\n",
    "\n",
    "Quando a gente trabalha com dados, tudo começa com uma pergunta:  \n",
    "**O que eu quero observar ou medir?**\n",
    "\n",
    "A resposta para isso é o que chamamos de **variável**.\n",
    "\n",
    "### O que são variáveis?\n",
    "\n",
    "Variáveis são as **características** que vamos analisar em um grupo de pessoas, objetos, eventos, etc.  \n",
    "Elas podem ser **qualitativas** (categorias) ou **quantitativas** (números).\n",
    "\n",
    "Saber o tipo de variável é **essencial** para escolher o gráfico certo, a fórmula certa e tirar boas conclusões.\n",
    "\n",
    "---\n",
    "\n",
    "### 1. Variáveis Qualitativas (também chamadas de Categóricas)\n",
    "\n",
    "São aquelas que representam **características ou qualidades**.  \n",
    "Elas **não** lidam com números que você pode somar ou subtrair — e sim com **categorias**.\n",
    "\n",
    "#### Variáveis Qualitativas **Nominais**\n",
    "\n",
    "- São variáveis **não numéricas** e **sem nenhuma ordem ou hierarquia** entre os valores.  \n",
    "- Servem apenas para **identificar** ou **classificar** categorias distintas.  \n",
    "- Não faz sentido organizar os valores de forma crescente ou decrescente.\n",
    "\n",
    "**Exemplos:**\n",
    "- Cor dos olhos (Azul, Castanho, Verde)  \n",
    "- Estado civil (Solteiro, Casado, Divorciado)  \n",
    "- Tipo sanguíneo (A, B, AB, O)  \n",
    "- Gênero (Feminino, Masculino)\n",
    "\n",
    "Cada valor representa uma **categoria diferente**, e nenhuma é “maior” ou “menor” que a outra — são apenas **rótulos**.\n",
    "\n",
    "\n",
    "#### Variáveis Qualitativas **Ordinais**\n",
    "\n",
    "- São variáveis **não numéricas** (qualitativas), mas que podem ser **colocadas em uma ordem** ou **hierarquia**.  \n",
    "- Mesmo sem representar números, os valores têm **uma sequência lógica** ou **grau de intensidade**.\n",
    "\n",
    "**Exemplos:**\n",
    "- Nível de escolaridade (Fundamental, Médio, Superior)  \n",
    "- Grau de satisfação (Insatisfeito, Neutro, Satisfeito)  \n",
    "- Classificação em uma competição ($1º$ lugar, $2º$ lugar, $3º$ lugar)\n",
    "\n",
    "A ordem **importa**, mas a **diferença entre os níveis** não pode ser medida com precisão.\n",
    "\n",
    "\n",
    "---\n",
    "\n",
    "### 2. Variáveis Quantitativas (também chamadas de Numéricas)\n",
    "\n",
    "São aquelas que indicam **quantidades**, medidas ou contagens.  \n",
    "Aqui os dados **são números** — e você pode fazer operações matemáticas com eles.\n",
    "\n",
    "#### Variáveis Quantitativas **Discretas**\n",
    "\n",
    "- São variáveis numéricas que representam **contagens**.  \n",
    "- Os valores possíveis são **separados** uns dos outros (não formam uma sequência contínua).  \n",
    "- Você **consegue contar** esses valores, um por um — como $0, 1, 2, 3...$\n",
    "\n",
    "**Exemplos:**\n",
    "- Número de filhos em uma família  \n",
    "- Quantidade de carros em uma garagem  \n",
    "- Número de alunos em uma sala\n",
    "\n",
    "Essas variáveis **não** assumem valores \"quebrados\", como $2,5$ ou $3,7$ — apenas **números inteiros**.\n",
    "\n",
    "\n",
    "#### Variáveis Quantitativas **Contínuas**\n",
    "\n",
    "- São variáveis numéricas que representam **medidas**.  \n",
    "- Os valores possíveis formam um **intervalo contínuo**, ou seja, **não há \"saltos\" entre eles**.  \n",
    "- Entre dois valores, sempre é possível encontrar **outros valores**.\n",
    "\n",
    "**Exemplos:**\n",
    "- Altura de uma pessoa  \n",
    "- Peso de um objeto  \n",
    "- Temperatura ambiente\n",
    "\n",
    "Essas variáveis podem ter **números decimais**, como $1,75$ ou $36,4$, pois são obtidas por **medição** e não por contagem.\n",
    "\n",
    "Mesmo que a gente arredonde os valores na prática, teoricamente há **infinitas possibilidades** entre dois pontos.\n",
    "\n",
    "\n",
    "---\n",
    "\n",
    "### Resumo geral\n",
    "\n",
    "| Tipo              | Subtipo   | Explicação rápida                          | Exemplo                         |\n",
    "|------------------|-----------|--------------------------------------------|---------------------------------|\n",
    "| Qualitativa       | Nominal   | Categoria sem ordem                        | Cor dos olhos, time de futebol  |\n",
    "| Qualitativa       | Ordinal   | Categoria com ordem                        | Escolaridade, grau de dor       |\n",
    "| Quantitativa      | Discreta  | Contagem, valores inteiros                 | Número de filhos, gols no jogo  |\n",
    "| Quantitativa      | Contínua  | Medição, pode ter frações ou decimais      | Altura, peso, tempo              |\n",
    "\n",
    "---\n",
    "\n"
   ]
  },
  {
   "cell_type": "markdown",
   "id": "422ac212",
   "metadata": {},
   "source": [
    "### Importando bibliotecas"
   ]
  },
  {
   "cell_type": "code",
   "execution_count": 1,
   "id": "f685463c",
   "metadata": {},
   "outputs": [],
   "source": [
    "import pandas as pd"
   ]
  },
  {
   "cell_type": "markdown",
   "id": "75726e79",
   "metadata": {},
   "source": [
    "### Conhecendo nossos dados"
   ]
  },
  {
   "cell_type": "code",
   "execution_count": 2,
   "id": "e304619f",
   "metadata": {},
   "outputs": [
    {
     "data": {
      "text/html": [
       "<div>\n",
       "<style scoped>\n",
       "    .dataframe tbody tr th:only-of-type {\n",
       "        vertical-align: middle;\n",
       "    }\n",
       "\n",
       "    .dataframe tbody tr th {\n",
       "        vertical-align: top;\n",
       "    }\n",
       "\n",
       "    .dataframe thead th {\n",
       "        text-align: right;\n",
       "    }\n",
       "</style>\n",
       "<table border=\"1\" class=\"dataframe\">\n",
       "  <thead>\n",
       "    <tr style=\"text-align: right;\">\n",
       "      <th></th>\n",
       "      <th>UF</th>\n",
       "      <th>Sexo</th>\n",
       "      <th>Idade</th>\n",
       "      <th>Cor</th>\n",
       "      <th>Anos de Estudo</th>\n",
       "      <th>Renda</th>\n",
       "      <th>Altura</th>\n",
       "    </tr>\n",
       "  </thead>\n",
       "  <tbody>\n",
       "    <tr>\n",
       "      <th>0</th>\n",
       "      <td>11</td>\n",
       "      <td>0</td>\n",
       "      <td>23</td>\n",
       "      <td>8</td>\n",
       "      <td>12</td>\n",
       "      <td>800</td>\n",
       "      <td>1.603808</td>\n",
       "    </tr>\n",
       "    <tr>\n",
       "      <th>1</th>\n",
       "      <td>11</td>\n",
       "      <td>1</td>\n",
       "      <td>23</td>\n",
       "      <td>2</td>\n",
       "      <td>12</td>\n",
       "      <td>1150</td>\n",
       "      <td>1.739790</td>\n",
       "    </tr>\n",
       "    <tr>\n",
       "      <th>2</th>\n",
       "      <td>11</td>\n",
       "      <td>1</td>\n",
       "      <td>35</td>\n",
       "      <td>8</td>\n",
       "      <td>15</td>\n",
       "      <td>880</td>\n",
       "      <td>1.760444</td>\n",
       "    </tr>\n",
       "    <tr>\n",
       "      <th>3</th>\n",
       "      <td>11</td>\n",
       "      <td>0</td>\n",
       "      <td>46</td>\n",
       "      <td>2</td>\n",
       "      <td>6</td>\n",
       "      <td>3500</td>\n",
       "      <td>1.783158</td>\n",
       "    </tr>\n",
       "    <tr>\n",
       "      <th>4</th>\n",
       "      <td>11</td>\n",
       "      <td>1</td>\n",
       "      <td>47</td>\n",
       "      <td>8</td>\n",
       "      <td>9</td>\n",
       "      <td>150</td>\n",
       "      <td>1.690631</td>\n",
       "    </tr>\n",
       "  </tbody>\n",
       "</table>\n",
       "</div>"
      ],
      "text/plain": [
       "   UF  Sexo  Idade  Cor  Anos de Estudo  Renda    Altura\n",
       "0  11     0     23    8              12    800  1.603808\n",
       "1  11     1     23    2              12   1150  1.739790\n",
       "2  11     1     35    8              15    880  1.760444\n",
       "3  11     0     46    2               6   3500  1.783158\n",
       "4  11     1     47    8               9    150  1.690631"
      ]
     },
     "execution_count": 2,
     "metadata": {},
     "output_type": "execute_result"
    }
   ],
   "source": [
    "dados = pd.read_csv(r\"../../dados/datasets/amostra-de-domicilios.csv\")\n",
    "dados.head()"
   ]
  },
  {
   "cell_type": "markdown",
   "id": "1e8cfb3e",
   "metadata": {},
   "source": [
    "### Variáveis Qualitativas **Ordinais**\n"
   ]
  },
  {
   "cell_type": "markdown",
   "id": "b71cada3",
   "metadata": {},
   "source": [
    "- ### Anos de Estudo\n",
    "Nesse caso esta seguindo uma ordem começando pelo infanto 1 até o médio 17"
   ]
  },
  {
   "cell_type": "code",
   "execution_count": 3,
   "id": "8a6fbba7",
   "metadata": {},
   "outputs": [
    {
     "data": {
      "text/plain": [
       "array([12, 15,  6,  9, 14, 16, 10,  1,  5,  7,  3,  2,  4,  8, 11, 17, 13])"
      ]
     },
     "execution_count": 3,
     "metadata": {},
     "output_type": "execute_result"
    }
   ],
   "source": [
    "dados[\"Anos de Estudo\"].unique()"
   ]
  },
  {
   "cell_type": "code",
   "execution_count": 4,
   "id": "77e81ad3",
   "metadata": {},
   "outputs": [
    {
     "data": {
      "text/plain": [
       "[1, 2, 3, 4, 5, 6, 7, 8, 9, 10, 11, 12, 13, 14, 15, 16, 17]"
      ]
     },
     "execution_count": 4,
     "metadata": {},
     "output_type": "execute_result"
    }
   ],
   "source": [
    "sorted(dados[\"Anos de Estudo\"].unique().tolist())"
   ]
  },
  {
   "cell_type": "markdown",
   "id": "6eda13b9",
   "metadata": {},
   "source": [
    "### Variáveis Qualitativas **Nominais**"
   ]
  },
  {
   "cell_type": "markdown",
   "id": "713df91e",
   "metadata": {},
   "source": [
    "- ### UF"
   ]
  },
  {
   "cell_type": "code",
   "execution_count": 5,
   "id": "9e9386ad",
   "metadata": {},
   "outputs": [
    {
     "data": {
      "text/plain": [
       "array([11, 12, 13, 14, 15, 16, 17, 21, 22, 23, 24, 25, 26, 27, 28, 29, 31,\n",
       "       32, 33, 35, 41, 42, 43, 50, 51, 52, 53])"
      ]
     },
     "execution_count": 5,
     "metadata": {},
     "output_type": "execute_result"
    }
   ],
   "source": [
    "dados[\"UF\"].unique()"
   ]
  },
  {
   "cell_type": "code",
   "execution_count": 6,
   "id": "b7cce20b",
   "metadata": {},
   "outputs": [
    {
     "data": {
      "text/plain": [
       "[11,\n",
       " 12,\n",
       " 13,\n",
       " 14,\n",
       " 15,\n",
       " 16,\n",
       " 17,\n",
       " 21,\n",
       " 22,\n",
       " 23,\n",
       " 24,\n",
       " 25,\n",
       " 26,\n",
       " 27,\n",
       " 28,\n",
       " 29,\n",
       " 31,\n",
       " 32,\n",
       " 33,\n",
       " 35,\n",
       " 41,\n",
       " 42,\n",
       " 43,\n",
       " 50,\n",
       " 51,\n",
       " 52,\n",
       " 53]"
      ]
     },
     "execution_count": 6,
     "metadata": {},
     "output_type": "execute_result"
    }
   ],
   "source": [
    "sorted(dados[\"UF\"].unique().tolist())"
   ]
  },
  {
   "cell_type": "markdown",
   "id": "f465af59",
   "metadata": {},
   "source": [
    "- ### Sexo\n",
    "$0$ representando masculino   \n",
    "$1$ representando feminino"
   ]
  },
  {
   "cell_type": "code",
   "execution_count": 7,
   "id": "e81177dd",
   "metadata": {},
   "outputs": [
    {
     "data": {
      "text/plain": [
       "[0, 1]"
      ]
     },
     "execution_count": 7,
     "metadata": {},
     "output_type": "execute_result"
    }
   ],
   "source": [
    "sorted(dados[\"Sexo\"].unique().tolist())"
   ]
  },
  {
   "cell_type": "markdown",
   "id": "12bbe2e0",
   "metadata": {},
   "source": [
    "- ### Cor\n",
    "$0$ Indígena\n",
    "\n",
    "$2$ Branca \n",
    "\n",
    "$4$ Preta\n",
    "\n",
    "$6$ Amarela \n",
    "  \t\n",
    "$8$ Parda"
   ]
  },
  {
   "cell_type": "code",
   "execution_count": 8,
   "id": "bd0af951",
   "metadata": {},
   "outputs": [
    {
     "data": {
      "text/plain": [
       "[0, 2, 4, 6, 8]"
      ]
     },
     "execution_count": 8,
     "metadata": {},
     "output_type": "execute_result"
    }
   ],
   "source": [
    "sorted(dados[\"Cor\"].unique().tolist())"
   ]
  },
  {
   "cell_type": "markdown",
   "id": "f2891a5f",
   "metadata": {},
   "source": [
    "### Variáveis Quantitativas **Discretas**\n"
   ]
  },
  {
   "cell_type": "markdown",
   "id": "a1687d66",
   "metadata": {},
   "source": [
    "- ### Idade"
   ]
  },
  {
   "cell_type": "code",
   "execution_count": 9,
   "id": "7befc53b",
   "metadata": {},
   "outputs": [
    {
     "name": "stdout",
     "output_type": "stream",
     "text": [
      "Idade é uma variável quantitativa Discreta de 13 até 99 anos no nosso dataset.\n"
     ]
    }
   ],
   "source": [
    "print(\n",
    "    f\"Idade é uma variável quantitativa Discreta de {dados['Idade'].min()} \"\n",
    "    f\"até {dados['Idade'].max()} anos no nosso dataset.\"\n",
    ")"
   ]
  },
  {
   "cell_type": "markdown",
   "id": "963e3441",
   "metadata": {},
   "source": [
    "#### A Idade e Suas Diferentes Classificações\n",
    "\n",
    "A variável \"idade\" pode ser **classificada** de maneiras diferentes dependendo de como ela é coletada ou usada na análise estatística.\n",
    "\n",
    "##### 1. Quantitativa **Contínua**\n",
    "- Quando a idade é medida com **mais precisão**, como em **anos, meses, dias** ou até com decimais.\n",
    "- Exemplo: 23,5 anos — ou seja, idade exata ou estimada por medição.\n",
    "\n",
    "##### 2. Quantitativa **Discreta**\n",
    "- Quando a idade é expressa apenas em **números inteiros**.\n",
    "- Exemplo: 25 anos, 40 anos — uma contagem simplificada, comum em pesquisas e cadastros.\n",
    "\n",
    "##### 3. Qualitativa **Ordinal**\n",
    "- Quando a idade é agrupada em faixas etárias **ordenadas**, indicando uma **hierarquia** de fases da vida.\n",
    "- Exemplo:  \n",
    "  - Criança (0–12 anos)  \n",
    "  - Adolescente (13–17 anos)  \n",
    "  - Adulto (18–59 anos)  \n",
    "  - Idoso (60 anos ou mais)\n",
    "\n",
    "Essas faixas podem variar conforme o estudo, mas o importante é que existe uma **ordem lógica** entre elas.\n",
    "\n",
    "**Resumo:**  \n",
    "A mesma informação (idade) pode ser tratada de forma **contínua, discreta ou ordinal**, dependendo do **nível de detalhe**, da **forma de coleta** ou do **objetivo da análise**.\n",
    "\n",
    "---\n"
   ]
  },
  {
   "cell_type": "markdown",
   "id": "b026128a",
   "metadata": {},
   "source": [
    "### Variáveis Quantitativas **Contínua**\n"
   ]
  },
  {
   "cell_type": "code",
   "execution_count": 10,
   "id": "432215cc",
   "metadata": {},
   "outputs": [
    {
     "name": "stdout",
     "output_type": "stream",
     "text": [
      "Altura é uma variável quantitativa Contínua de 1.34 até 2.03 metros no nosso dataset.\n"
     ]
    }
   ],
   "source": [
    "print(\n",
    "    f\"Altura é uma variável quantitativa Contínua de {round(dados['Altura'], 2).min()} \"\n",
    "    f\"até {round(dados['Altura'], 2).max()} metros no nosso dataset.\"\n",
    ")"
   ]
  },
  {
   "cell_type": "code",
   "execution_count": null,
   "id": "9742f429",
   "metadata": {},
   "outputs": [],
   "source": []
  }
 ],
 "metadata": {
  "kernelspec": {
   "display_name": "Python 3",
   "language": "python",
   "name": "python3"
  },
  "language_info": {
   "codemirror_mode": {
    "name": "ipython",
    "version": 3
   },
   "file_extension": ".py",
   "mimetype": "text/x-python",
   "name": "python",
   "nbconvert_exporter": "python",
   "pygments_lexer": "ipython3",
   "version": "3.13.1"
  }
 },
 "nbformat": 4,
 "nbformat_minor": 5
}
